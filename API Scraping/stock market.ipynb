{
 "cells": [
  {
   "cell_type": "code",
   "execution_count": null,
   "id": "ea4cefd6",
   "metadata": {},
   "outputs": [],
   "source": []
  },
  {
   "cell_type": "code",
   "execution_count": 2,
   "id": "8d7d7feb",
   "metadata": {},
   "outputs": [
    {
     "name": "stdout",
     "output_type": "stream",
     "text": [
      "Requirement already satisfied: python-dotenv in d:\\data analytics\\advanced python\\repository\\venv\\lib\\site-packages (1.1.1)\n",
      "Note: you may need to restart the kernel to use updated packages.\n"
     ]
    }
   ],
   "source": [
    "%pip install python-dotenv"
   ]
  },
  {
   "cell_type": "code",
   "execution_count": 3,
   "id": "54f700e2",
   "metadata": {},
   "outputs": [
    {
     "name": "stdout",
     "output_type": "stream",
     "text": [
      "Requirement already satisfied: plotly in d:\\data analytics\\advanced python\\repository\\venv\\lib\\site-packages (6.3.0)\n",
      "Requirement already satisfied: narwhals>=1.15.1 in d:\\data analytics\\advanced python\\repository\\venv\\lib\\site-packages (from plotly) (2.2.0)\n",
      "Requirement already satisfied: packaging in d:\\data analytics\\advanced python\\repository\\venv\\lib\\site-packages (from plotly) (25.0)\n",
      "Note: you may need to restart the kernel to use updated packages.\n"
     ]
    }
   ],
   "source": [
    "%pip install plotly"
   ]
  },
  {
   "cell_type": "code",
   "execution_count": 2,
   "id": "4e7cc88d",
   "metadata": {},
   "outputs": [
    {
     "data": {
      "text/plain": [
       "True"
      ]
     },
     "execution_count": 2,
     "metadata": {},
     "output_type": "execute_result"
    }
   ],
   "source": [
    "from dotenv import load_dotenv\n",
    "load_dotenv()"
   ]
  },
  {
   "cell_type": "code",
   "execution_count": 3,
   "metadata": {},
   "outputs": [],
   "source": [
    "import os\n",
    "api_key = os.getenv('API_KEY')"
   ]
  },
  {
   "cell_type": "code",
   "execution_count": 4,
   "metadata": {},
   "outputs": [],
   "source": [
    "import requests\n",
    "\n",
    "url = \"https://alpha-vantage.p.rapidapi.com/query\"\n",
    "\n",
    "querystring = {\"datatype\":\"json\",\"keywords\":\"RELIANCE\",\"function\":\"SYMBOL_SEARCH\"}\n",
    "\n",
    "headers = {\n",
    "\t\"x-rapidapi-key\": api_key,\n",
    "\t\"x-rapidapi-host\": \"alpha-vantage.p.rapidapi.com\"\n",
    "}\n",
    "\n",
    "response = requests.get(url, headers=headers, params=querystring)\n",
    "\n",
    "data = response.json()"
   ]
  },
  {
   "cell_type": "code",
   "execution_count": 5,
   "id": "87d26eab",
   "metadata": {},
   "outputs": [
    {
     "data": {
      "text/plain": [
       "{'bestMatches': [{'1. symbol': 'RELIANCE.BSE',\n",
       "   '2. name': 'Reliance Industries Limited',\n",
       "   '3. type': 'Equity',\n",
       "   '4. region': 'India/Bombay',\n",
       "   '5. marketOpen': '09:15',\n",
       "   '6. marketClose': '15:30',\n",
       "   '7. timezone': 'UTC+5.5',\n",
       "   '8. currency': 'INR',\n",
       "   '9. matchScore': '0.8421'},\n",
       "  {'1. symbol': 'RELI',\n",
       "   '2. name': 'Reliance Global Group Inc',\n",
       "   '3. type': 'Equity',\n",
       "   '4. region': 'United States',\n",
       "   '5. marketOpen': '09:30',\n",
       "   '6. marketClose': '16:00',\n",
       "   '7. timezone': 'UTC-04',\n",
       "   '8. currency': 'USD',\n",
       "   '9. matchScore': '0.6667'},\n",
       "  {'1. symbol': 'RELIW',\n",
       "   '2. name': 'Reliance Global Group Inc - Warrants - Series A (01/02/2026)',\n",
       "   '3. type': 'Equity',\n",
       "   '4. region': 'United States',\n",
       "   '5. marketOpen': '09:30',\n",
       "   '6. marketClose': '16:00',\n",
       "   '7. timezone': 'UTC-04',\n",
       "   '8. currency': 'USD',\n",
       "   '9. matchScore': '0.6154'},\n",
       "  {'1. symbol': 'RELCHEMQ.BSE',\n",
       "   '2. name': 'RELIANCE CHEMOTEX INDUSTRIES LTD.-$',\n",
       "   '3. type': 'Equity',\n",
       "   '4. region': 'India/Bombay',\n",
       "   '5. marketOpen': '09:15',\n",
       "   '6. marketClose': '15:30',\n",
       "   '7. timezone': 'UTC+5.5',\n",
       "   '8. currency': 'INR',\n",
       "   '9. matchScore': '0.5263'},\n",
       "  {'1. symbol': 'RLBS',\n",
       "   '2. name': 'Reliance Bancshares Inc',\n",
       "   '3. type': 'Equity',\n",
       "   '4. region': 'United States',\n",
       "   '5. marketOpen': '09:30',\n",
       "   '6. marketClose': '16:00',\n",
       "   '7. timezone': 'UTC-04',\n",
       "   '8. currency': 'USD',\n",
       "   '9. matchScore': '0.5161'},\n",
       "  {'1. symbol': 'RELHOME.BSE',\n",
       "   '2. name': 'Reliance Home Finance Ltd',\n",
       "   '3. type': 'Equity',\n",
       "   '4. region': 'India/Bombay',\n",
       "   '5. marketOpen': '09:15',\n",
       "   '6. marketClose': '15:30',\n",
       "   '7. timezone': 'UTC+5.5',\n",
       "   '8. currency': 'INR',\n",
       "   '9. matchScore': '0.4848'},\n",
       "  {'1. symbol': 'RCOM.BSE',\n",
       "   '2. name': 'RELIANCE COMMUNICATIONS LTD.',\n",
       "   '3. type': 'Equity',\n",
       "   '4. region': 'India/Bombay',\n",
       "   '5. marketOpen': '09:15',\n",
       "   '6. marketClose': '15:30',\n",
       "   '7. timezone': 'UTC+5.5',\n",
       "   '8. currency': 'INR',\n",
       "   '9. matchScore': '0.4444'},\n",
       "  {'1. symbol': '540709.BSE',\n",
       "   '2. name': 'Reliance Home Finance Limited',\n",
       "   '3. type': 'Equity',\n",
       "   '4. region': 'India/Bombay',\n",
       "   '5. marketOpen': '09:15',\n",
       "   '6. marketClose': '15:30',\n",
       "   '7. timezone': 'UTC+5.5',\n",
       "   '8. currency': 'INR',\n",
       "   '9. matchScore': '0.4324'},\n",
       "  {'1. symbol': '532712.BSE',\n",
       "   '2. name': 'Reliance Communications Limited',\n",
       "   '3. type': 'Equity',\n",
       "   '4. region': 'India/Bombay',\n",
       "   '5. marketOpen': '09:15',\n",
       "   '6. marketClose': '15:30',\n",
       "   '7. timezone': 'UTC+5.5',\n",
       "   '8. currency': 'INR',\n",
       "   '9. matchScore': '0.4103'},\n",
       "  {'1. symbol': '503162.BSE',\n",
       "   '2. name': 'Reliance Chemotex Industries Limited',\n",
       "   '3. type': 'Equity',\n",
       "   '4. region': 'India/Bombay',\n",
       "   '5. marketOpen': '09:15',\n",
       "   '6. marketClose': '15:30',\n",
       "   '7. timezone': 'UTC+5.5',\n",
       "   '8. currency': 'INR',\n",
       "   '9. matchScore': '0.3636'}]}"
      ]
     },
     "execution_count": 5,
     "metadata": {},
     "output_type": "execute_result"
    }
   ],
   "source": [
    "data"
   ]
  },
  {
   "cell_type": "code",
   "execution_count": 6,
   "id": "f8a6ae9c",
   "metadata": {},
   "outputs": [
    {
     "data": {
      "text/plain": [
       "dict"
      ]
     },
     "execution_count": 6,
     "metadata": {},
     "output_type": "execute_result"
    }
   ],
   "source": [
    "type(data)"
   ]
  },
  {
   "cell_type": "code",
   "execution_count": 7,
   "id": "4e8a699e",
   "metadata": {},
   "outputs": [
    {
     "data": {
      "text/plain": [
       "dict_keys(['bestMatches'])"
      ]
     },
     "execution_count": 7,
     "metadata": {},
     "output_type": "execute_result"
    }
   ],
   "source": [
    "data.keys()"
   ]
  },
  {
   "cell_type": "code",
   "execution_count": 8,
   "id": "1675db24",
   "metadata": {},
   "outputs": [
    {
     "data": {
      "text/plain": [
       "[{'1. symbol': 'RELIANCE.BSE',\n",
       "  '2. name': 'Reliance Industries Limited',\n",
       "  '3. type': 'Equity',\n",
       "  '4. region': 'India/Bombay',\n",
       "  '5. marketOpen': '09:15',\n",
       "  '6. marketClose': '15:30',\n",
       "  '7. timezone': 'UTC+5.5',\n",
       "  '8. currency': 'INR',\n",
       "  '9. matchScore': '0.8421'},\n",
       " {'1. symbol': 'RELI',\n",
       "  '2. name': 'Reliance Global Group Inc',\n",
       "  '3. type': 'Equity',\n",
       "  '4. region': 'United States',\n",
       "  '5. marketOpen': '09:30',\n",
       "  '6. marketClose': '16:00',\n",
       "  '7. timezone': 'UTC-04',\n",
       "  '8. currency': 'USD',\n",
       "  '9. matchScore': '0.6667'},\n",
       " {'1. symbol': 'RELIW',\n",
       "  '2. name': 'Reliance Global Group Inc - Warrants - Series A (01/02/2026)',\n",
       "  '3. type': 'Equity',\n",
       "  '4. region': 'United States',\n",
       "  '5. marketOpen': '09:30',\n",
       "  '6. marketClose': '16:00',\n",
       "  '7. timezone': 'UTC-04',\n",
       "  '8. currency': 'USD',\n",
       "  '9. matchScore': '0.6154'},\n",
       " {'1. symbol': 'RELCHEMQ.BSE',\n",
       "  '2. name': 'RELIANCE CHEMOTEX INDUSTRIES LTD.-$',\n",
       "  '3. type': 'Equity',\n",
       "  '4. region': 'India/Bombay',\n",
       "  '5. marketOpen': '09:15',\n",
       "  '6. marketClose': '15:30',\n",
       "  '7. timezone': 'UTC+5.5',\n",
       "  '8. currency': 'INR',\n",
       "  '9. matchScore': '0.5263'},\n",
       " {'1. symbol': 'RLBS',\n",
       "  '2. name': 'Reliance Bancshares Inc',\n",
       "  '3. type': 'Equity',\n",
       "  '4. region': 'United States',\n",
       "  '5. marketOpen': '09:30',\n",
       "  '6. marketClose': '16:00',\n",
       "  '7. timezone': 'UTC-04',\n",
       "  '8. currency': 'USD',\n",
       "  '9. matchScore': '0.5161'},\n",
       " {'1. symbol': 'RELHOME.BSE',\n",
       "  '2. name': 'Reliance Home Finance Ltd',\n",
       "  '3. type': 'Equity',\n",
       "  '4. region': 'India/Bombay',\n",
       "  '5. marketOpen': '09:15',\n",
       "  '6. marketClose': '15:30',\n",
       "  '7. timezone': 'UTC+5.5',\n",
       "  '8. currency': 'INR',\n",
       "  '9. matchScore': '0.4848'},\n",
       " {'1. symbol': 'RCOM.BSE',\n",
       "  '2. name': 'RELIANCE COMMUNICATIONS LTD.',\n",
       "  '3. type': 'Equity',\n",
       "  '4. region': 'India/Bombay',\n",
       "  '5. marketOpen': '09:15',\n",
       "  '6. marketClose': '15:30',\n",
       "  '7. timezone': 'UTC+5.5',\n",
       "  '8. currency': 'INR',\n",
       "  '9. matchScore': '0.4444'},\n",
       " {'1. symbol': '540709.BSE',\n",
       "  '2. name': 'Reliance Home Finance Limited',\n",
       "  '3. type': 'Equity',\n",
       "  '4. region': 'India/Bombay',\n",
       "  '5. marketOpen': '09:15',\n",
       "  '6. marketClose': '15:30',\n",
       "  '7. timezone': 'UTC+5.5',\n",
       "  '8. currency': 'INR',\n",
       "  '9. matchScore': '0.4324'},\n",
       " {'1. symbol': '532712.BSE',\n",
       "  '2. name': 'Reliance Communications Limited',\n",
       "  '3. type': 'Equity',\n",
       "  '4. region': 'India/Bombay',\n",
       "  '5. marketOpen': '09:15',\n",
       "  '6. marketClose': '15:30',\n",
       "  '7. timezone': 'UTC+5.5',\n",
       "  '8. currency': 'INR',\n",
       "  '9. matchScore': '0.4103'},\n",
       " {'1. symbol': '503162.BSE',\n",
       "  '2. name': 'Reliance Chemotex Industries Limited',\n",
       "  '3. type': 'Equity',\n",
       "  '4. region': 'India/Bombay',\n",
       "  '5. marketOpen': '09:15',\n",
       "  '6. marketClose': '15:30',\n",
       "  '7. timezone': 'UTC+5.5',\n",
       "  '8. currency': 'INR',\n",
       "  '9. matchScore': '0.3636'}]"
      ]
     },
     "execution_count": 8,
     "metadata": {},
     "output_type": "execute_result"
    }
   ],
   "source": [
    "data['bestMatches']"
   ]
  },
  {
   "cell_type": "code",
   "execution_count": 9,
   "id": "30416f5f",
   "metadata": {},
   "outputs": [
    {
     "data": {
      "text/plain": [
       "list"
      ]
     },
     "execution_count": 9,
     "metadata": {},
     "output_type": "execute_result"
    }
   ],
   "source": [
    "type(data['bestMatches'])"
   ]
  },
  {
   "cell_type": "code",
   "execution_count": 10,
   "id": "c84e7127",
   "metadata": {},
   "outputs": [
    {
     "name": "stdout",
     "output_type": "stream",
     "text": [
      "{'1. symbol': 'RELIANCE.BSE', '2. name': 'Reliance Industries Limited', '3. type': 'Equity', '4. region': 'India/Bombay', '5. marketOpen': '09:15', '6. marketClose': '15:30', '7. timezone': 'UTC+5.5', '8. currency': 'INR', '9. matchScore': '0.8421'}\n",
      "{'1. symbol': 'RELI', '2. name': 'Reliance Global Group Inc', '3. type': 'Equity', '4. region': 'United States', '5. marketOpen': '09:30', '6. marketClose': '16:00', '7. timezone': 'UTC-04', '8. currency': 'USD', '9. matchScore': '0.6667'}\n",
      "{'1. symbol': 'RELIW', '2. name': 'Reliance Global Group Inc - Warrants - Series A (01/02/2026)', '3. type': 'Equity', '4. region': 'United States', '5. marketOpen': '09:30', '6. marketClose': '16:00', '7. timezone': 'UTC-04', '8. currency': 'USD', '9. matchScore': '0.6154'}\n",
      "{'1. symbol': 'RELCHEMQ.BSE', '2. name': 'RELIANCE CHEMOTEX INDUSTRIES LTD.-$', '3. type': 'Equity', '4. region': 'India/Bombay', '5. marketOpen': '09:15', '6. marketClose': '15:30', '7. timezone': 'UTC+5.5', '8. currency': 'INR', '9. matchScore': '0.5263'}\n",
      "{'1. symbol': 'RLBS', '2. name': 'Reliance Bancshares Inc', '3. type': 'Equity', '4. region': 'United States', '5. marketOpen': '09:30', '6. marketClose': '16:00', '7. timezone': 'UTC-04', '8. currency': 'USD', '9. matchScore': '0.5161'}\n",
      "{'1. symbol': 'RELHOME.BSE', '2. name': 'Reliance Home Finance Ltd', '3. type': 'Equity', '4. region': 'India/Bombay', '5. marketOpen': '09:15', '6. marketClose': '15:30', '7. timezone': 'UTC+5.5', '8. currency': 'INR', '9. matchScore': '0.4848'}\n",
      "{'1. symbol': 'RCOM.BSE', '2. name': 'RELIANCE COMMUNICATIONS LTD.', '3. type': 'Equity', '4. region': 'India/Bombay', '5. marketOpen': '09:15', '6. marketClose': '15:30', '7. timezone': 'UTC+5.5', '8. currency': 'INR', '9. matchScore': '0.4444'}\n",
      "{'1. symbol': '540709.BSE', '2. name': 'Reliance Home Finance Limited', '3. type': 'Equity', '4. region': 'India/Bombay', '5. marketOpen': '09:15', '6. marketClose': '15:30', '7. timezone': 'UTC+5.5', '8. currency': 'INR', '9. matchScore': '0.4324'}\n",
      "{'1. symbol': '532712.BSE', '2. name': 'Reliance Communications Limited', '3. type': 'Equity', '4. region': 'India/Bombay', '5. marketOpen': '09:15', '6. marketClose': '15:30', '7. timezone': 'UTC+5.5', '8. currency': 'INR', '9. matchScore': '0.4103'}\n",
      "{'1. symbol': '503162.BSE', '2. name': 'Reliance Chemotex Industries Limited', '3. type': 'Equity', '4. region': 'India/Bombay', '5. marketOpen': '09:15', '6. marketClose': '15:30', '7. timezone': 'UTC+5.5', '8. currency': 'INR', '9. matchScore': '0.3636'}\n"
     ]
    }
   ],
   "source": [
    "for i in data['bestMatches']:\n",
    "    print(i)"
   ]
  },
  {
   "cell_type": "code",
   "execution_count": 11,
   "id": "ebaa9650",
   "metadata": {},
   "outputs": [
    {
     "name": "stdout",
     "output_type": "stream",
     "text": [
      "RELIANCE.BSE\n",
      "RELI\n",
      "RELIW\n",
      "RELCHEMQ.BSE\n",
      "RLBS\n",
      "RELHOME.BSE\n",
      "RCOM.BSE\n",
      "540709.BSE\n",
      "532712.BSE\n",
      "503162.BSE\n"
     ]
    }
   ],
   "source": [
    "for i in data['bestMatches']:\n",
    "    print(i['1. symbol'])"
   ]
  },
  {
   "cell_type": "code",
   "execution_count": 12,
   "id": "5a1d1a4f",
   "metadata": {},
   "outputs": [
    {
     "data": {
      "text/plain": [
       "{'RELIANCE.BSE': ['Reliance Industries Limited', 'India/Bombay', 'INR'],\n",
       " 'RELI': ['Reliance Global Group Inc', 'United States', 'USD'],\n",
       " 'RELIW': ['Reliance Global Group Inc - Warrants - Series A (01/02/2026)',\n",
       "  'United States',\n",
       "  'USD'],\n",
       " 'RELCHEMQ.BSE': ['RELIANCE CHEMOTEX INDUSTRIES LTD.-$',\n",
       "  'India/Bombay',\n",
       "  'INR'],\n",
       " 'RLBS': ['Reliance Bancshares Inc', 'United States', 'USD'],\n",
       " 'RELHOME.BSE': ['Reliance Home Finance Ltd', 'India/Bombay', 'INR'],\n",
       " 'RCOM.BSE': ['RELIANCE COMMUNICATIONS LTD.', 'India/Bombay', 'INR'],\n",
       " '540709.BSE': ['Reliance Home Finance Limited', 'India/Bombay', 'INR'],\n",
       " '532712.BSE': ['Reliance Communications Limited', 'India/Bombay', 'INR'],\n",
       " '503162.BSE': ['Reliance Chemotex Industries Limited', 'India/Bombay', 'INR']}"
      ]
     },
     "execution_count": 12,
     "metadata": {},
     "output_type": "execute_result"
    }
   ],
   "source": [
    "data1 = {}\n",
    "for i in data['bestMatches']:\n",
    "    symbol = i['1. symbol']\n",
    "    data1[symbol] = [i['2. name'],i['4. region'],i['8. currency']]\n",
    "data1\n"
   ]
  },
  {
   "cell_type": "code",
   "execution_count": 13,
   "id": "b8dd1533",
   "metadata": {},
   "outputs": [],
   "source": [
    "# fetch time series data"
   ]
  },
  {
   "cell_type": "code",
   "execution_count": 14,
   "id": "f2a647b4",
   "metadata": {},
   "outputs": [],
   "source": [
    "import requests\n",
    "\n",
    "url = \"https://alpha-vantage.p.rapidapi.com/query\"\n",
    "\n",
    "querystring = {\"function\":\"TIME_SERIES_DAILY\",\"symbol\":'RELHOME.BSE',\"outputsize\":\"compact\",\"datatype\":\"json\"}\n",
    "\n",
    "headers = {\n",
    "\t\"x-rapidapi-key\": api_key,\n",
    "\t\"x-rapidapi-host\": \"alpha-vantage.p.rapidapi.com\"\n",
    "}\n",
    "\n",
    "response = requests.get(url, headers=headers, params=querystring)\n",
    "\n",
    "data2 = response.json()"
   ]
  },
  {
   "cell_type": "code",
   "execution_count": 15,
   "id": "55fdc4f5",
   "metadata": {},
   "outputs": [
    {
     "data": {
      "text/plain": [
       "{'Meta Data': {'1. Information': 'Daily Prices (open, high, low, close) and Volumes',\n",
       "  '2. Symbol': 'RELHOME.BSE',\n",
       "  '3. Last Refreshed': '2025-09-23',\n",
       "  '4. Output Size': 'Compact',\n",
       "  '5. Time Zone': 'US/Eastern'},\n",
       " 'Time Series (Daily)': {'2025-09-23': {'1. open': '4.1600',\n",
       "   '2. high': '4.1600',\n",
       "   '3. low': '4.1600',\n",
       "   '4. close': '4.1600',\n",
       "   '5. volume': '182979'},\n",
       "  '2025-09-22': {'1. open': '4.4500',\n",
       "   '2. high': '4.4800',\n",
       "   '3. low': '4.3700',\n",
       "   '4. close': '4.3700',\n",
       "   '5. volume': '623903'},\n",
       "  '2025-09-19': {'1. open': '4.6300',\n",
       "   '2. high': '4.6900',\n",
       "   '3. low': '4.5700',\n",
       "   '4. close': '4.6000',\n",
       "   '5. volume': '717715'},\n",
       "  '2025-09-18': {'1. open': '4.7000',\n",
       "   '2. high': '4.7400',\n",
       "   '3. low': '4.5300',\n",
       "   '4. close': '4.6500',\n",
       "   '5. volume': '564078'},\n",
       "  '2025-09-17': {'1. open': '4.7700',\n",
       "   '2. high': '4.7700',\n",
       "   '3. low': '4.5500',\n",
       "   '4. close': '4.6900',\n",
       "   '5. volume': '856457'},\n",
       "  '2025-09-16': {'1. open': '4.7100',\n",
       "   '2. high': '4.7800',\n",
       "   '3. low': '4.6700',\n",
       "   '4. close': '4.7400',\n",
       "   '5. volume': '1191947'},\n",
       "  '2025-09-15': {'1. open': '4.8300',\n",
       "   '2. high': '4.8300',\n",
       "   '3. low': '4.6500',\n",
       "   '4. close': '4.7100',\n",
       "   '5. volume': '804034'},\n",
       "  '2025-09-12': {'1. open': '4.6300',\n",
       "   '2. high': '4.7800',\n",
       "   '3. low': '4.6200',\n",
       "   '4. close': '4.7300',\n",
       "   '5. volume': '835060'},\n",
       "  '2025-09-11': {'1. open': '4.7500',\n",
       "   '2. high': '4.7800',\n",
       "   '3. low': '4.6000',\n",
       "   '4. close': '4.6200',\n",
       "   '5. volume': '576369'},\n",
       "  '2025-09-10': {'1. open': '4.7200',\n",
       "   '2. high': '4.8100',\n",
       "   '3. low': '4.6600',\n",
       "   '4. close': '4.7200',\n",
       "   '5. volume': '870634'},\n",
       "  '2025-09-09': {'1. open': '4.7600',\n",
       "   '2. high': '4.9600',\n",
       "   '3. low': '4.6800',\n",
       "   '4. close': '4.7300',\n",
       "   '5. volume': '957780'},\n",
       "  '2025-09-08': {'1. open': '4.7600',\n",
       "   '2. high': '5.0000',\n",
       "   '3. low': '4.7600',\n",
       "   '4. close': '4.8100',\n",
       "   '5. volume': '257993'},\n",
       "  '2025-09-05': {'1. open': '4.8000',\n",
       "   '2. high': '4.9100',\n",
       "   '3. low': '4.7200',\n",
       "   '4. close': '4.7900',\n",
       "   '5. volume': '275617'},\n",
       "  '2025-09-04': {'1. open': '4.9200',\n",
       "   '2. high': '4.9400',\n",
       "   '3. low': '4.7000',\n",
       "   '4. close': '4.8300',\n",
       "   '5. volume': '388791'},\n",
       "  '2025-09-03': {'1. open': '4.9500',\n",
       "   '2. high': '5.0500',\n",
       "   '3. low': '4.8200',\n",
       "   '4. close': '4.8400',\n",
       "   '5. volume': '708183'},\n",
       "  '2025-09-02': {'1. open': '4.7900',\n",
       "   '2. high': '5.0200',\n",
       "   '3. low': '4.7000',\n",
       "   '4. close': '5.0200',\n",
       "   '5. volume': '835316'},\n",
       "  '2025-09-01': {'1. open': '4.7800',\n",
       "   '2. high': '4.9500',\n",
       "   '3. low': '4.5700',\n",
       "   '4. close': '4.7900',\n",
       "   '5. volume': '320248'},\n",
       "  '2025-08-29': {'1. open': '4.9800',\n",
       "   '2. high': '5.0500',\n",
       "   '3. low': '4.7500',\n",
       "   '4. close': '4.7700',\n",
       "   '5. volume': '266452'},\n",
       "  '2025-08-28': {'1. open': '4.7200',\n",
       "   '2. high': '5.0700',\n",
       "   '3. low': '4.7200',\n",
       "   '4. close': '4.9300',\n",
       "   '5. volume': '1008434'},\n",
       "  '2025-08-26': {'1. open': '4.9600',\n",
       "   '2. high': '5.0400',\n",
       "   '3. low': '4.9600',\n",
       "   '4. close': '4.9600',\n",
       "   '5. volume': '547344'},\n",
       "  '2025-08-25': {'1. open': '5.2900',\n",
       "   '2. high': '5.2900',\n",
       "   '3. low': '5.2200',\n",
       "   '4. close': '5.2200',\n",
       "   '5. volume': '144163'},\n",
       "  '2025-08-22': {'1. open': '5.4800',\n",
       "   '2. high': '5.5300',\n",
       "   '3. low': '5.2700',\n",
       "   '4. close': '5.4900',\n",
       "   '5. volume': '1969001'},\n",
       "  '2025-08-21': {'1. open': '5.0500',\n",
       "   '2. high': '5.2700',\n",
       "   '3. low': '4.9900',\n",
       "   '4. close': '5.2700',\n",
       "   '5. volume': '1246816'},\n",
       "  '2025-08-20': {'1. open': '4.8200',\n",
       "   '2. high': '5.0200',\n",
       "   '3. low': '4.6500',\n",
       "   '4. close': '5.0200',\n",
       "   '5. volume': '2406343'},\n",
       "  '2025-08-19': {'1. open': '4.7500',\n",
       "   '2. high': '4.8200',\n",
       "   '3. low': '4.5100',\n",
       "   '4. close': '4.7900',\n",
       "   '5. volume': '654989'},\n",
       "  '2025-08-18': {'1. open': '4.4700',\n",
       "   '2. high': '4.7900',\n",
       "   '3. low': '4.4700',\n",
       "   '4. close': '4.6500',\n",
       "   '5. volume': '644376'},\n",
       "  '2025-08-14': {'1. open': '4.6300',\n",
       "   '2. high': '4.7000',\n",
       "   '3. low': '4.4300',\n",
       "   '4. close': '4.5900',\n",
       "   '5. volume': '442176'},\n",
       "  '2025-08-13': {'1. open': '4.7800',\n",
       "   '2. high': '4.7800',\n",
       "   '3. low': '4.5500',\n",
       "   '4. close': '4.5900',\n",
       "   '5. volume': '534410'},\n",
       "  '2025-08-12': {'1. open': '4.7500',\n",
       "   '2. high': '4.8000',\n",
       "   '3. low': '4.6500',\n",
       "   '4. close': '4.7400',\n",
       "   '5. volume': '511208'},\n",
       "  '2025-08-11': {'1. open': '4.7200',\n",
       "   '2. high': '4.7900',\n",
       "   '3. low': '4.6600',\n",
       "   '4. close': '4.7100',\n",
       "   '5. volume': '613791'},\n",
       "  '2025-08-08': {'1. open': '5.1000',\n",
       "   '2. high': '5.1000',\n",
       "   '3. low': '4.7100',\n",
       "   '4. close': '4.7300',\n",
       "   '5. volume': '632052'},\n",
       "  '2025-08-07': {'1. open': '4.8800',\n",
       "   '2. high': '5.1100',\n",
       "   '3. low': '4.6300',\n",
       "   '4. close': '4.9500',\n",
       "   '5. volume': '1226079'},\n",
       "  '2025-08-06': {'1. open': '4.4200',\n",
       "   '2. high': '4.8800',\n",
       "   '3. low': '4.4200',\n",
       "   '4. close': '4.8700',\n",
       "   '5. volume': '1050064'},\n",
       "  '2025-08-05': {'1. open': '4.6500',\n",
       "   '2. high': '4.6500',\n",
       "   '3. low': '4.6500',\n",
       "   '4. close': '4.6500',\n",
       "   '5. volume': '85143'},\n",
       "  '2025-08-04': {'1. open': '4.8900',\n",
       "   '2. high': '4.8900',\n",
       "   '3. low': '4.8900',\n",
       "   '4. close': '4.8900',\n",
       "   '5. volume': '236431'},\n",
       "  '2025-08-01': {'1. open': '4.9100',\n",
       "   '2. high': '5.1500',\n",
       "   '3. low': '4.8000',\n",
       "   '4. close': '5.1400',\n",
       "   '5. volume': '1411567'},\n",
       "  '2025-07-31': {'1. open': '4.6900',\n",
       "   '2. high': '4.9300',\n",
       "   '3. low': '4.4700',\n",
       "   '4. close': '4.9100',\n",
       "   '5. volume': '1344042'},\n",
       "  '2025-07-30': {'1. open': '4.5900',\n",
       "   '2. high': '4.7000',\n",
       "   '3. low': '4.5700',\n",
       "   '4. close': '4.7000',\n",
       "   '5. volume': '1758034'},\n",
       "  '2025-07-29': {'1. open': '4.0600',\n",
       "   '2. high': '4.4800',\n",
       "   '3. low': '4.0600',\n",
       "   '4. close': '4.4800',\n",
       "   '5. volume': '915473'},\n",
       "  '2025-07-28': {'1. open': '4.2700',\n",
       "   '2. high': '4.4400',\n",
       "   '3. low': '4.2700',\n",
       "   '4. close': '4.2700',\n",
       "   '5. volume': '835773'},\n",
       "  '2025-07-25': {'1. open': '4.4900',\n",
       "   '2. high': '4.4900',\n",
       "   '3. low': '4.4900',\n",
       "   '4. close': '4.4900',\n",
       "   '5. volume': '200715'},\n",
       "  '2025-07-24': {'1. open': '4.3500',\n",
       "   '2. high': '4.7900',\n",
       "   '3. low': '4.3500',\n",
       "   '4. close': '4.7200',\n",
       "   '5. volume': '2469786'},\n",
       "  '2025-07-23': {'1. open': '4.6300',\n",
       "   '2. high': '4.7000',\n",
       "   '3. low': '4.5700',\n",
       "   '4. close': '4.5700',\n",
       "   '5. volume': '252262'},\n",
       "  '2025-07-22': {'1. open': '4.9800',\n",
       "   '2. high': '5.0800',\n",
       "   '3. low': '4.8100',\n",
       "   '4. close': '4.8100',\n",
       "   '5. volume': '918679'},\n",
       "  '2025-07-21': {'1. open': '5.2800',\n",
       "   '2. high': '5.4000',\n",
       "   '3. low': '5.0600',\n",
       "   '4. close': '5.0600',\n",
       "   '5. volume': '1493969'},\n",
       "  '2025-07-18': {'1. open': '5.4000',\n",
       "   '2. high': '5.4000',\n",
       "   '3. low': '5.3200',\n",
       "   '4. close': '5.3200',\n",
       "   '5. volume': '217732'},\n",
       "  '2025-07-17': {'1. open': '5.2900',\n",
       "   '2. high': '5.4200',\n",
       "   '3. low': '5.2900',\n",
       "   '4. close': '5.4200',\n",
       "   '5. volume': '1478487'},\n",
       "  '2025-07-16': {'1. open': '5.3200',\n",
       "   '2. high': '5.3200',\n",
       "   '3. low': '5.3200',\n",
       "   '4. close': '5.3200',\n",
       "   '5. volume': '428790'},\n",
       "  '2025-07-15': {'1. open': '5.5000',\n",
       "   '2. high': '5.5000',\n",
       "   '3. low': '5.4200',\n",
       "   '4. close': '5.4200',\n",
       "   '5. volume': '659973'},\n",
       "  '2025-07-14': {'1. open': '5.5500',\n",
       "   '2. high': '5.5500',\n",
       "   '3. low': '5.5300',\n",
       "   '4. close': '5.5300',\n",
       "   '5. volume': '2638384'},\n",
       "  '2025-07-11': {'1. open': '5.6300',\n",
       "   '2. high': '5.6300',\n",
       "   '3. low': '5.6300',\n",
       "   '4. close': '5.6300',\n",
       "   '5. volume': '1452875'},\n",
       "  '2025-07-10': {'1. open': '5.4000',\n",
       "   '2. high': '5.5200',\n",
       "   '3. low': '5.4000',\n",
       "   '4. close': '5.5200',\n",
       "   '5. volume': '3561572'},\n",
       "  '2025-07-09': {'1. open': '5.4200',\n",
       "   '2. high': '5.4200',\n",
       "   '3. low': '5.4200',\n",
       "   '4. close': '5.4200',\n",
       "   '5. volume': '65985'},\n",
       "  '2025-07-08': {'1. open': '5.5300',\n",
       "   '2. high': '5.5300',\n",
       "   '3. low': '5.5300',\n",
       "   '4. close': '5.5300',\n",
       "   '5. volume': '98603'},\n",
       "  '2025-07-07': {'1. open': '5.6400',\n",
       "   '2. high': '5.6400',\n",
       "   '3. low': '5.6400',\n",
       "   '4. close': '5.6400',\n",
       "   '5. volume': '73320'},\n",
       "  '2025-07-04': {'1. open': '5.7500',\n",
       "   '2. high': '5.7500',\n",
       "   '3. low': '5.7500',\n",
       "   '4. close': '5.7500',\n",
       "   '5. volume': '75175'},\n",
       "  '2025-07-03': {'1. open': '5.8600',\n",
       "   '2. high': '5.8600',\n",
       "   '3. low': '5.8600',\n",
       "   '4. close': '5.8600',\n",
       "   '5. volume': '71534'},\n",
       "  '2025-07-02': {'1. open': '5.9700',\n",
       "   '2. high': '5.9700',\n",
       "   '3. low': '5.9700',\n",
       "   '4. close': '5.9700',\n",
       "   '5. volume': '102552'},\n",
       "  '2025-07-01': {'1. open': '6.0900',\n",
       "   '2. high': '6.0900',\n",
       "   '3. low': '6.0900',\n",
       "   '4. close': '6.0900',\n",
       "   '5. volume': '51925'},\n",
       "  '2025-06-30': {'1. open': '6.2100',\n",
       "   '2. high': '6.2100',\n",
       "   '3. low': '6.2100',\n",
       "   '4. close': '6.2100',\n",
       "   '5. volume': '108756'},\n",
       "  '2025-06-27': {'1. open': '6.3300',\n",
       "   '2. high': '6.3300',\n",
       "   '3. low': '6.3300',\n",
       "   '4. close': '6.3300',\n",
       "   '5. volume': '126705'},\n",
       "  '2025-06-26': {'1. open': '6.4500',\n",
       "   '2. high': '6.4500',\n",
       "   '3. low': '6.4500',\n",
       "   '4. close': '6.4500',\n",
       "   '5. volume': '83125'},\n",
       "  '2025-06-25': {'1. open': '6.5800',\n",
       "   '2. high': '6.5800',\n",
       "   '3. low': '6.5800',\n",
       "   '4. close': '6.5800',\n",
       "   '5. volume': '69224'},\n",
       "  '2025-06-24': {'1. open': '6.7100',\n",
       "   '2. high': '6.7100',\n",
       "   '3. low': '6.7100',\n",
       "   '4. close': '6.7100',\n",
       "   '5. volume': '65649'},\n",
       "  '2025-06-23': {'1. open': '6.8400',\n",
       "   '2. high': '6.8400',\n",
       "   '3. low': '6.8400',\n",
       "   '4. close': '6.8400',\n",
       "   '5. volume': '133283'},\n",
       "  '2025-06-20': {'1. open': '6.9700',\n",
       "   '2. high': '6.9700',\n",
       "   '3. low': '6.9700',\n",
       "   '4. close': '6.9700',\n",
       "   '5. volume': '103745'},\n",
       "  '2025-06-19': {'1. open': '7.1100',\n",
       "   '2. high': '7.1100',\n",
       "   '3. low': '7.1100',\n",
       "   '4. close': '7.1100',\n",
       "   '5. volume': '112476'},\n",
       "  '2025-06-18': {'1. open': '7.2500',\n",
       "   '2. high': '7.2500',\n",
       "   '3. low': '7.2500',\n",
       "   '4. close': '7.2500',\n",
       "   '5. volume': '268531'},\n",
       "  '2025-06-17': {'1. open': '7.3900',\n",
       "   '2. high': '7.3900',\n",
       "   '3. low': '7.3900',\n",
       "   '4. close': '7.3900',\n",
       "   '5. volume': '343758'},\n",
       "  '2025-06-16': {'1. open': '7.5400',\n",
       "   '2. high': '7.5400',\n",
       "   '3. low': '7.5400',\n",
       "   '4. close': '7.5400',\n",
       "   '5. volume': '812872'},\n",
       "  '2025-06-13': {'1. open': '7.6900',\n",
       "   '2. high': '7.6900',\n",
       "   '3. low': '7.6900',\n",
       "   '4. close': '7.6900',\n",
       "   '5. volume': '4145631'},\n",
       "  '2025-06-12': {'1. open': '7.8400',\n",
       "   '2. high': '7.8400',\n",
       "   '3. low': '7.8400',\n",
       "   '4. close': '7.8400',\n",
       "   '5. volume': '1174269'},\n",
       "  '2025-06-11': {'1. open': '7.4700',\n",
       "   '2. high': '7.4700',\n",
       "   '3. low': '7.4700',\n",
       "   '4. close': '7.4700',\n",
       "   '5. volume': '935002'},\n",
       "  '2025-06-10': {'1. open': '7.0700',\n",
       "   '2. high': '7.1200',\n",
       "   '3. low': '7.0700',\n",
       "   '4. close': '7.1200',\n",
       "   '5. volume': '2667981'},\n",
       "  '2025-06-09': {'1. open': '6.7900',\n",
       "   '2. high': '6.7900',\n",
       "   '3. low': '6.7900',\n",
       "   '4. close': '6.7900',\n",
       "   '5. volume': '2959480'},\n",
       "  '2025-06-06': {'1. open': '6.4700',\n",
       "   '2. high': '6.4700',\n",
       "   '3. low': '6.4700',\n",
       "   '4. close': '6.4700',\n",
       "   '5. volume': '1570272'},\n",
       "  '2025-06-05': {'1. open': '6.1700',\n",
       "   '2. high': '6.1700',\n",
       "   '3. low': '6.1700',\n",
       "   '4. close': '6.1700',\n",
       "   '5. volume': '2501521'},\n",
       "  '2025-06-04': {'1. open': '5.6200',\n",
       "   '2. high': '5.8800',\n",
       "   '3. low': '5.6000',\n",
       "   '4. close': '5.8800',\n",
       "   '5. volume': '7199548'},\n",
       "  '2025-06-03': {'1. open': '5.6000',\n",
       "   '2. high': '5.6000',\n",
       "   '3. low': '5.4500',\n",
       "   '4. close': '5.6000',\n",
       "   '5. volume': '9509700'},\n",
       "  '2025-06-02': {'1. open': '5.2300',\n",
       "   '2. high': '5.3400',\n",
       "   '3. low': '5.1500',\n",
       "   '4. close': '5.3400',\n",
       "   '5. volume': '2275152'},\n",
       "  '2025-05-30': {'1. open': '5.0900',\n",
       "   '2. high': '5.0900',\n",
       "   '3. low': '4.8200',\n",
       "   '4. close': '5.0900',\n",
       "   '5. volume': '11703700'},\n",
       "  '2025-05-29': {'1. open': '4.8500',\n",
       "   '2. high': '4.8500',\n",
       "   '3. low': '4.8500',\n",
       "   '4. close': '4.8500',\n",
       "   '5. volume': '2892125'},\n",
       "  '2025-05-28': {'1. open': '4.6200',\n",
       "   '2. high': '4.6200',\n",
       "   '3. low': '4.6200',\n",
       "   '4. close': '4.6200',\n",
       "   '5. volume': '1319246'},\n",
       "  '2025-05-27': {'1. open': '4.4000',\n",
       "   '2. high': '4.4000',\n",
       "   '3. low': '4.4000',\n",
       "   '4. close': '4.4000',\n",
       "   '5. volume': '1496954'},\n",
       "  '2025-05-26': {'1. open': '3.8500',\n",
       "   '2. high': '4.0000',\n",
       "   '3. low': '3.8000',\n",
       "   '4. close': '4.0000',\n",
       "   '5. volume': '2596562'},\n",
       "  '2025-05-23': {'1. open': '3.2900',\n",
       "   '2. high': '3.6400',\n",
       "   '3. low': '3.2900',\n",
       "   '4. close': '3.6400',\n",
       "   '5. volume': '2934222'},\n",
       "  '2025-05-22': {'1. open': '3.4200',\n",
       "   '2. high': '3.4500',\n",
       "   '3. low': '3.2900',\n",
       "   '4. close': '3.3100',\n",
       "   '5. volume': '489640'},\n",
       "  '2025-05-21': {'1. open': '3.3200',\n",
       "   '2. high': '3.5000',\n",
       "   '3. low': '3.0800',\n",
       "   '4. close': '3.3600',\n",
       "   '5. volume': '1122965'},\n",
       "  '2025-05-20': {'1. open': '3.3200',\n",
       "   '2. high': '3.4000',\n",
       "   '3. low': '3.2800',\n",
       "   '4. close': '3.3200',\n",
       "   '5. volume': '645355'},\n",
       "  '2025-05-19': {'1. open': '3.3200',\n",
       "   '2. high': '3.4500',\n",
       "   '3. low': '3.3000',\n",
       "   '4. close': '3.3200',\n",
       "   '5. volume': '831811'},\n",
       "  '2025-05-16': {'1. open': '3.2700',\n",
       "   '2. high': '3.3500',\n",
       "   '3. low': '3.2400',\n",
       "   '4. close': '3.3000',\n",
       "   '5. volume': '712704'},\n",
       "  '2025-05-15': {'1. open': '3.2800',\n",
       "   '2. high': '3.3600',\n",
       "   '3. low': '3.2600',\n",
       "   '4. close': '3.2800',\n",
       "   '5. volume': '723421'},\n",
       "  '2025-05-14': {'1. open': '3.3700',\n",
       "   '2. high': '3.3700',\n",
       "   '3. low': '3.2600',\n",
       "   '4. close': '3.2900',\n",
       "   '5. volume': '417811'},\n",
       "  '2025-05-13': {'1. open': '3.2800',\n",
       "   '2. high': '3.3800',\n",
       "   '3. low': '3.2500',\n",
       "   '4. close': '3.3000',\n",
       "   '5. volume': '866518'},\n",
       "  '2025-05-12': {'1. open': '2.9900',\n",
       "   '2. high': '3.2800',\n",
       "   '3. low': '2.9900',\n",
       "   '4. close': '3.2800',\n",
       "   '5. volume': '1125163'},\n",
       "  '2025-05-09': {'1. open': '2.9100',\n",
       "   '2. high': '3.0800',\n",
       "   '3. low': '2.8900',\n",
       "   '4. close': '2.9900',\n",
       "   '5. volume': '318081'},\n",
       "  '2025-05-08': {'1. open': '3.0200',\n",
       "   '2. high': '3.1600',\n",
       "   '3. low': '2.9600',\n",
       "   '4. close': '2.9900',\n",
       "   '5. volume': '580611'},\n",
       "  '2025-05-07': {'1. open': '2.9400',\n",
       "   '2. high': '3.1400',\n",
       "   '3. low': '2.9000',\n",
       "   '4. close': '3.0300',\n",
       "   '5. volume': '473884'},\n",
       "  '2025-05-06': {'1. open': '3.2000',\n",
       "   '2. high': '3.2100',\n",
       "   '3. low': '3.0000',\n",
       "   '4. close': '3.0100',\n",
       "   '5. volume': '1027684'},\n",
       "  '2025-05-05': {'1. open': '3.2600',\n",
       "   '2. high': '3.2700',\n",
       "   '3. low': '3.1100',\n",
       "   '4. close': '3.2100',\n",
       "   '5. volume': '744651'}}}"
      ]
     },
     "execution_count": 15,
     "metadata": {},
     "output_type": "execute_result"
    }
   ],
   "source": [
    "data2"
   ]
  },
  {
   "cell_type": "code",
   "execution_count": 16,
   "id": "eb7032ec",
   "metadata": {},
   "outputs": [
    {
     "data": {
      "text/plain": [
       "dict_keys(['Meta Data', 'Time Series (Daily)'])"
      ]
     },
     "execution_count": 16,
     "metadata": {},
     "output_type": "execute_result"
    }
   ],
   "source": [
    "data2.keys()"
   ]
  },
  {
   "cell_type": "code",
   "execution_count": 17,
   "id": "f9ab3b69",
   "metadata": {},
   "outputs": [],
   "source": [
    "import pandas as pd"
   ]
  },
  {
   "cell_type": "code",
   "execution_count": 18,
   "id": "bea11f65",
   "metadata": {},
   "outputs": [
    {
     "data": {
      "text/plain": [
       "{'2025-09-23': {'1. open': '4.1600',\n",
       "  '2. high': '4.1600',\n",
       "  '3. low': '4.1600',\n",
       "  '4. close': '4.1600',\n",
       "  '5. volume': '182979'},\n",
       " '2025-09-22': {'1. open': '4.4500',\n",
       "  '2. high': '4.4800',\n",
       "  '3. low': '4.3700',\n",
       "  '4. close': '4.3700',\n",
       "  '5. volume': '623903'},\n",
       " '2025-09-19': {'1. open': '4.6300',\n",
       "  '2. high': '4.6900',\n",
       "  '3. low': '4.5700',\n",
       "  '4. close': '4.6000',\n",
       "  '5. volume': '717715'},\n",
       " '2025-09-18': {'1. open': '4.7000',\n",
       "  '2. high': '4.7400',\n",
       "  '3. low': '4.5300',\n",
       "  '4. close': '4.6500',\n",
       "  '5. volume': '564078'},\n",
       " '2025-09-17': {'1. open': '4.7700',\n",
       "  '2. high': '4.7700',\n",
       "  '3. low': '4.5500',\n",
       "  '4. close': '4.6900',\n",
       "  '5. volume': '856457'},\n",
       " '2025-09-16': {'1. open': '4.7100',\n",
       "  '2. high': '4.7800',\n",
       "  '3. low': '4.6700',\n",
       "  '4. close': '4.7400',\n",
       "  '5. volume': '1191947'},\n",
       " '2025-09-15': {'1. open': '4.8300',\n",
       "  '2. high': '4.8300',\n",
       "  '3. low': '4.6500',\n",
       "  '4. close': '4.7100',\n",
       "  '5. volume': '804034'},\n",
       " '2025-09-12': {'1. open': '4.6300',\n",
       "  '2. high': '4.7800',\n",
       "  '3. low': '4.6200',\n",
       "  '4. close': '4.7300',\n",
       "  '5. volume': '835060'},\n",
       " '2025-09-11': {'1. open': '4.7500',\n",
       "  '2. high': '4.7800',\n",
       "  '3. low': '4.6000',\n",
       "  '4. close': '4.6200',\n",
       "  '5. volume': '576369'},\n",
       " '2025-09-10': {'1. open': '4.7200',\n",
       "  '2. high': '4.8100',\n",
       "  '3. low': '4.6600',\n",
       "  '4. close': '4.7200',\n",
       "  '5. volume': '870634'},\n",
       " '2025-09-09': {'1. open': '4.7600',\n",
       "  '2. high': '4.9600',\n",
       "  '3. low': '4.6800',\n",
       "  '4. close': '4.7300',\n",
       "  '5. volume': '957780'},\n",
       " '2025-09-08': {'1. open': '4.7600',\n",
       "  '2. high': '5.0000',\n",
       "  '3. low': '4.7600',\n",
       "  '4. close': '4.8100',\n",
       "  '5. volume': '257993'},\n",
       " '2025-09-05': {'1. open': '4.8000',\n",
       "  '2. high': '4.9100',\n",
       "  '3. low': '4.7200',\n",
       "  '4. close': '4.7900',\n",
       "  '5. volume': '275617'},\n",
       " '2025-09-04': {'1. open': '4.9200',\n",
       "  '2. high': '4.9400',\n",
       "  '3. low': '4.7000',\n",
       "  '4. close': '4.8300',\n",
       "  '5. volume': '388791'},\n",
       " '2025-09-03': {'1. open': '4.9500',\n",
       "  '2. high': '5.0500',\n",
       "  '3. low': '4.8200',\n",
       "  '4. close': '4.8400',\n",
       "  '5. volume': '708183'},\n",
       " '2025-09-02': {'1. open': '4.7900',\n",
       "  '2. high': '5.0200',\n",
       "  '3. low': '4.7000',\n",
       "  '4. close': '5.0200',\n",
       "  '5. volume': '835316'},\n",
       " '2025-09-01': {'1. open': '4.7800',\n",
       "  '2. high': '4.9500',\n",
       "  '3. low': '4.5700',\n",
       "  '4. close': '4.7900',\n",
       "  '5. volume': '320248'},\n",
       " '2025-08-29': {'1. open': '4.9800',\n",
       "  '2. high': '5.0500',\n",
       "  '3. low': '4.7500',\n",
       "  '4. close': '4.7700',\n",
       "  '5. volume': '266452'},\n",
       " '2025-08-28': {'1. open': '4.7200',\n",
       "  '2. high': '5.0700',\n",
       "  '3. low': '4.7200',\n",
       "  '4. close': '4.9300',\n",
       "  '5. volume': '1008434'},\n",
       " '2025-08-26': {'1. open': '4.9600',\n",
       "  '2. high': '5.0400',\n",
       "  '3. low': '4.9600',\n",
       "  '4. close': '4.9600',\n",
       "  '5. volume': '547344'},\n",
       " '2025-08-25': {'1. open': '5.2900',\n",
       "  '2. high': '5.2900',\n",
       "  '3. low': '5.2200',\n",
       "  '4. close': '5.2200',\n",
       "  '5. volume': '144163'},\n",
       " '2025-08-22': {'1. open': '5.4800',\n",
       "  '2. high': '5.5300',\n",
       "  '3. low': '5.2700',\n",
       "  '4. close': '5.4900',\n",
       "  '5. volume': '1969001'},\n",
       " '2025-08-21': {'1. open': '5.0500',\n",
       "  '2. high': '5.2700',\n",
       "  '3. low': '4.9900',\n",
       "  '4. close': '5.2700',\n",
       "  '5. volume': '1246816'},\n",
       " '2025-08-20': {'1. open': '4.8200',\n",
       "  '2. high': '5.0200',\n",
       "  '3. low': '4.6500',\n",
       "  '4. close': '5.0200',\n",
       "  '5. volume': '2406343'},\n",
       " '2025-08-19': {'1. open': '4.7500',\n",
       "  '2. high': '4.8200',\n",
       "  '3. low': '4.5100',\n",
       "  '4. close': '4.7900',\n",
       "  '5. volume': '654989'},\n",
       " '2025-08-18': {'1. open': '4.4700',\n",
       "  '2. high': '4.7900',\n",
       "  '3. low': '4.4700',\n",
       "  '4. close': '4.6500',\n",
       "  '5. volume': '644376'},\n",
       " '2025-08-14': {'1. open': '4.6300',\n",
       "  '2. high': '4.7000',\n",
       "  '3. low': '4.4300',\n",
       "  '4. close': '4.5900',\n",
       "  '5. volume': '442176'},\n",
       " '2025-08-13': {'1. open': '4.7800',\n",
       "  '2. high': '4.7800',\n",
       "  '3. low': '4.5500',\n",
       "  '4. close': '4.5900',\n",
       "  '5. volume': '534410'},\n",
       " '2025-08-12': {'1. open': '4.7500',\n",
       "  '2. high': '4.8000',\n",
       "  '3. low': '4.6500',\n",
       "  '4. close': '4.7400',\n",
       "  '5. volume': '511208'},\n",
       " '2025-08-11': {'1. open': '4.7200',\n",
       "  '2. high': '4.7900',\n",
       "  '3. low': '4.6600',\n",
       "  '4. close': '4.7100',\n",
       "  '5. volume': '613791'},\n",
       " '2025-08-08': {'1. open': '5.1000',\n",
       "  '2. high': '5.1000',\n",
       "  '3. low': '4.7100',\n",
       "  '4. close': '4.7300',\n",
       "  '5. volume': '632052'},\n",
       " '2025-08-07': {'1. open': '4.8800',\n",
       "  '2. high': '5.1100',\n",
       "  '3. low': '4.6300',\n",
       "  '4. close': '4.9500',\n",
       "  '5. volume': '1226079'},\n",
       " '2025-08-06': {'1. open': '4.4200',\n",
       "  '2. high': '4.8800',\n",
       "  '3. low': '4.4200',\n",
       "  '4. close': '4.8700',\n",
       "  '5. volume': '1050064'},\n",
       " '2025-08-05': {'1. open': '4.6500',\n",
       "  '2. high': '4.6500',\n",
       "  '3. low': '4.6500',\n",
       "  '4. close': '4.6500',\n",
       "  '5. volume': '85143'},\n",
       " '2025-08-04': {'1. open': '4.8900',\n",
       "  '2. high': '4.8900',\n",
       "  '3. low': '4.8900',\n",
       "  '4. close': '4.8900',\n",
       "  '5. volume': '236431'},\n",
       " '2025-08-01': {'1. open': '4.9100',\n",
       "  '2. high': '5.1500',\n",
       "  '3. low': '4.8000',\n",
       "  '4. close': '5.1400',\n",
       "  '5. volume': '1411567'},\n",
       " '2025-07-31': {'1. open': '4.6900',\n",
       "  '2. high': '4.9300',\n",
       "  '3. low': '4.4700',\n",
       "  '4. close': '4.9100',\n",
       "  '5. volume': '1344042'},\n",
       " '2025-07-30': {'1. open': '4.5900',\n",
       "  '2. high': '4.7000',\n",
       "  '3. low': '4.5700',\n",
       "  '4. close': '4.7000',\n",
       "  '5. volume': '1758034'},\n",
       " '2025-07-29': {'1. open': '4.0600',\n",
       "  '2. high': '4.4800',\n",
       "  '3. low': '4.0600',\n",
       "  '4. close': '4.4800',\n",
       "  '5. volume': '915473'},\n",
       " '2025-07-28': {'1. open': '4.2700',\n",
       "  '2. high': '4.4400',\n",
       "  '3. low': '4.2700',\n",
       "  '4. close': '4.2700',\n",
       "  '5. volume': '835773'},\n",
       " '2025-07-25': {'1. open': '4.4900',\n",
       "  '2. high': '4.4900',\n",
       "  '3. low': '4.4900',\n",
       "  '4. close': '4.4900',\n",
       "  '5. volume': '200715'},\n",
       " '2025-07-24': {'1. open': '4.3500',\n",
       "  '2. high': '4.7900',\n",
       "  '3. low': '4.3500',\n",
       "  '4. close': '4.7200',\n",
       "  '5. volume': '2469786'},\n",
       " '2025-07-23': {'1. open': '4.6300',\n",
       "  '2. high': '4.7000',\n",
       "  '3. low': '4.5700',\n",
       "  '4. close': '4.5700',\n",
       "  '5. volume': '252262'},\n",
       " '2025-07-22': {'1. open': '4.9800',\n",
       "  '2. high': '5.0800',\n",
       "  '3. low': '4.8100',\n",
       "  '4. close': '4.8100',\n",
       "  '5. volume': '918679'},\n",
       " '2025-07-21': {'1. open': '5.2800',\n",
       "  '2. high': '5.4000',\n",
       "  '3. low': '5.0600',\n",
       "  '4. close': '5.0600',\n",
       "  '5. volume': '1493969'},\n",
       " '2025-07-18': {'1. open': '5.4000',\n",
       "  '2. high': '5.4000',\n",
       "  '3. low': '5.3200',\n",
       "  '4. close': '5.3200',\n",
       "  '5. volume': '217732'},\n",
       " '2025-07-17': {'1. open': '5.2900',\n",
       "  '2. high': '5.4200',\n",
       "  '3. low': '5.2900',\n",
       "  '4. close': '5.4200',\n",
       "  '5. volume': '1478487'},\n",
       " '2025-07-16': {'1. open': '5.3200',\n",
       "  '2. high': '5.3200',\n",
       "  '3. low': '5.3200',\n",
       "  '4. close': '5.3200',\n",
       "  '5. volume': '428790'},\n",
       " '2025-07-15': {'1. open': '5.5000',\n",
       "  '2. high': '5.5000',\n",
       "  '3. low': '5.4200',\n",
       "  '4. close': '5.4200',\n",
       "  '5. volume': '659973'},\n",
       " '2025-07-14': {'1. open': '5.5500',\n",
       "  '2. high': '5.5500',\n",
       "  '3. low': '5.5300',\n",
       "  '4. close': '5.5300',\n",
       "  '5. volume': '2638384'},\n",
       " '2025-07-11': {'1. open': '5.6300',\n",
       "  '2. high': '5.6300',\n",
       "  '3. low': '5.6300',\n",
       "  '4. close': '5.6300',\n",
       "  '5. volume': '1452875'},\n",
       " '2025-07-10': {'1. open': '5.4000',\n",
       "  '2. high': '5.5200',\n",
       "  '3. low': '5.4000',\n",
       "  '4. close': '5.5200',\n",
       "  '5. volume': '3561572'},\n",
       " '2025-07-09': {'1. open': '5.4200',\n",
       "  '2. high': '5.4200',\n",
       "  '3. low': '5.4200',\n",
       "  '4. close': '5.4200',\n",
       "  '5. volume': '65985'},\n",
       " '2025-07-08': {'1. open': '5.5300',\n",
       "  '2. high': '5.5300',\n",
       "  '3. low': '5.5300',\n",
       "  '4. close': '5.5300',\n",
       "  '5. volume': '98603'},\n",
       " '2025-07-07': {'1. open': '5.6400',\n",
       "  '2. high': '5.6400',\n",
       "  '3. low': '5.6400',\n",
       "  '4. close': '5.6400',\n",
       "  '5. volume': '73320'},\n",
       " '2025-07-04': {'1. open': '5.7500',\n",
       "  '2. high': '5.7500',\n",
       "  '3. low': '5.7500',\n",
       "  '4. close': '5.7500',\n",
       "  '5. volume': '75175'},\n",
       " '2025-07-03': {'1. open': '5.8600',\n",
       "  '2. high': '5.8600',\n",
       "  '3. low': '5.8600',\n",
       "  '4. close': '5.8600',\n",
       "  '5. volume': '71534'},\n",
       " '2025-07-02': {'1. open': '5.9700',\n",
       "  '2. high': '5.9700',\n",
       "  '3. low': '5.9700',\n",
       "  '4. close': '5.9700',\n",
       "  '5. volume': '102552'},\n",
       " '2025-07-01': {'1. open': '6.0900',\n",
       "  '2. high': '6.0900',\n",
       "  '3. low': '6.0900',\n",
       "  '4. close': '6.0900',\n",
       "  '5. volume': '51925'},\n",
       " '2025-06-30': {'1. open': '6.2100',\n",
       "  '2. high': '6.2100',\n",
       "  '3. low': '6.2100',\n",
       "  '4. close': '6.2100',\n",
       "  '5. volume': '108756'},\n",
       " '2025-06-27': {'1. open': '6.3300',\n",
       "  '2. high': '6.3300',\n",
       "  '3. low': '6.3300',\n",
       "  '4. close': '6.3300',\n",
       "  '5. volume': '126705'},\n",
       " '2025-06-26': {'1. open': '6.4500',\n",
       "  '2. high': '6.4500',\n",
       "  '3. low': '6.4500',\n",
       "  '4. close': '6.4500',\n",
       "  '5. volume': '83125'},\n",
       " '2025-06-25': {'1. open': '6.5800',\n",
       "  '2. high': '6.5800',\n",
       "  '3. low': '6.5800',\n",
       "  '4. close': '6.5800',\n",
       "  '5. volume': '69224'},\n",
       " '2025-06-24': {'1. open': '6.7100',\n",
       "  '2. high': '6.7100',\n",
       "  '3. low': '6.7100',\n",
       "  '4. close': '6.7100',\n",
       "  '5. volume': '65649'},\n",
       " '2025-06-23': {'1. open': '6.8400',\n",
       "  '2. high': '6.8400',\n",
       "  '3. low': '6.8400',\n",
       "  '4. close': '6.8400',\n",
       "  '5. volume': '133283'},\n",
       " '2025-06-20': {'1. open': '6.9700',\n",
       "  '2. high': '6.9700',\n",
       "  '3. low': '6.9700',\n",
       "  '4. close': '6.9700',\n",
       "  '5. volume': '103745'},\n",
       " '2025-06-19': {'1. open': '7.1100',\n",
       "  '2. high': '7.1100',\n",
       "  '3. low': '7.1100',\n",
       "  '4. close': '7.1100',\n",
       "  '5. volume': '112476'},\n",
       " '2025-06-18': {'1. open': '7.2500',\n",
       "  '2. high': '7.2500',\n",
       "  '3. low': '7.2500',\n",
       "  '4. close': '7.2500',\n",
       "  '5. volume': '268531'},\n",
       " '2025-06-17': {'1. open': '7.3900',\n",
       "  '2. high': '7.3900',\n",
       "  '3. low': '7.3900',\n",
       "  '4. close': '7.3900',\n",
       "  '5. volume': '343758'},\n",
       " '2025-06-16': {'1. open': '7.5400',\n",
       "  '2. high': '7.5400',\n",
       "  '3. low': '7.5400',\n",
       "  '4. close': '7.5400',\n",
       "  '5. volume': '812872'},\n",
       " '2025-06-13': {'1. open': '7.6900',\n",
       "  '2. high': '7.6900',\n",
       "  '3. low': '7.6900',\n",
       "  '4. close': '7.6900',\n",
       "  '5. volume': '4145631'},\n",
       " '2025-06-12': {'1. open': '7.8400',\n",
       "  '2. high': '7.8400',\n",
       "  '3. low': '7.8400',\n",
       "  '4. close': '7.8400',\n",
       "  '5. volume': '1174269'},\n",
       " '2025-06-11': {'1. open': '7.4700',\n",
       "  '2. high': '7.4700',\n",
       "  '3. low': '7.4700',\n",
       "  '4. close': '7.4700',\n",
       "  '5. volume': '935002'},\n",
       " '2025-06-10': {'1. open': '7.0700',\n",
       "  '2. high': '7.1200',\n",
       "  '3. low': '7.0700',\n",
       "  '4. close': '7.1200',\n",
       "  '5. volume': '2667981'},\n",
       " '2025-06-09': {'1. open': '6.7900',\n",
       "  '2. high': '6.7900',\n",
       "  '3. low': '6.7900',\n",
       "  '4. close': '6.7900',\n",
       "  '5. volume': '2959480'},\n",
       " '2025-06-06': {'1. open': '6.4700',\n",
       "  '2. high': '6.4700',\n",
       "  '3. low': '6.4700',\n",
       "  '4. close': '6.4700',\n",
       "  '5. volume': '1570272'},\n",
       " '2025-06-05': {'1. open': '6.1700',\n",
       "  '2. high': '6.1700',\n",
       "  '3. low': '6.1700',\n",
       "  '4. close': '6.1700',\n",
       "  '5. volume': '2501521'},\n",
       " '2025-06-04': {'1. open': '5.6200',\n",
       "  '2. high': '5.8800',\n",
       "  '3. low': '5.6000',\n",
       "  '4. close': '5.8800',\n",
       "  '5. volume': '7199548'},\n",
       " '2025-06-03': {'1. open': '5.6000',\n",
       "  '2. high': '5.6000',\n",
       "  '3. low': '5.4500',\n",
       "  '4. close': '5.6000',\n",
       "  '5. volume': '9509700'},\n",
       " '2025-06-02': {'1. open': '5.2300',\n",
       "  '2. high': '5.3400',\n",
       "  '3. low': '5.1500',\n",
       "  '4. close': '5.3400',\n",
       "  '5. volume': '2275152'},\n",
       " '2025-05-30': {'1. open': '5.0900',\n",
       "  '2. high': '5.0900',\n",
       "  '3. low': '4.8200',\n",
       "  '4. close': '5.0900',\n",
       "  '5. volume': '11703700'},\n",
       " '2025-05-29': {'1. open': '4.8500',\n",
       "  '2. high': '4.8500',\n",
       "  '3. low': '4.8500',\n",
       "  '4. close': '4.8500',\n",
       "  '5. volume': '2892125'},\n",
       " '2025-05-28': {'1. open': '4.6200',\n",
       "  '2. high': '4.6200',\n",
       "  '3. low': '4.6200',\n",
       "  '4. close': '4.6200',\n",
       "  '5. volume': '1319246'},\n",
       " '2025-05-27': {'1. open': '4.4000',\n",
       "  '2. high': '4.4000',\n",
       "  '3. low': '4.4000',\n",
       "  '4. close': '4.4000',\n",
       "  '5. volume': '1496954'},\n",
       " '2025-05-26': {'1. open': '3.8500',\n",
       "  '2. high': '4.0000',\n",
       "  '3. low': '3.8000',\n",
       "  '4. close': '4.0000',\n",
       "  '5. volume': '2596562'},\n",
       " '2025-05-23': {'1. open': '3.2900',\n",
       "  '2. high': '3.6400',\n",
       "  '3. low': '3.2900',\n",
       "  '4. close': '3.6400',\n",
       "  '5. volume': '2934222'},\n",
       " '2025-05-22': {'1. open': '3.4200',\n",
       "  '2. high': '3.4500',\n",
       "  '3. low': '3.2900',\n",
       "  '4. close': '3.3100',\n",
       "  '5. volume': '489640'},\n",
       " '2025-05-21': {'1. open': '3.3200',\n",
       "  '2. high': '3.5000',\n",
       "  '3. low': '3.0800',\n",
       "  '4. close': '3.3600',\n",
       "  '5. volume': '1122965'},\n",
       " '2025-05-20': {'1. open': '3.3200',\n",
       "  '2. high': '3.4000',\n",
       "  '3. low': '3.2800',\n",
       "  '4. close': '3.3200',\n",
       "  '5. volume': '645355'},\n",
       " '2025-05-19': {'1. open': '3.3200',\n",
       "  '2. high': '3.4500',\n",
       "  '3. low': '3.3000',\n",
       "  '4. close': '3.3200',\n",
       "  '5. volume': '831811'},\n",
       " '2025-05-16': {'1. open': '3.2700',\n",
       "  '2. high': '3.3500',\n",
       "  '3. low': '3.2400',\n",
       "  '4. close': '3.3000',\n",
       "  '5. volume': '712704'},\n",
       " '2025-05-15': {'1. open': '3.2800',\n",
       "  '2. high': '3.3600',\n",
       "  '3. low': '3.2600',\n",
       "  '4. close': '3.2800',\n",
       "  '5. volume': '723421'},\n",
       " '2025-05-14': {'1. open': '3.3700',\n",
       "  '2. high': '3.3700',\n",
       "  '3. low': '3.2600',\n",
       "  '4. close': '3.2900',\n",
       "  '5. volume': '417811'},\n",
       " '2025-05-13': {'1. open': '3.2800',\n",
       "  '2. high': '3.3800',\n",
       "  '3. low': '3.2500',\n",
       "  '4. close': '3.3000',\n",
       "  '5. volume': '866518'},\n",
       " '2025-05-12': {'1. open': '2.9900',\n",
       "  '2. high': '3.2800',\n",
       "  '3. low': '2.9900',\n",
       "  '4. close': '3.2800',\n",
       "  '5. volume': '1125163'},\n",
       " '2025-05-09': {'1. open': '2.9100',\n",
       "  '2. high': '3.0800',\n",
       "  '3. low': '2.8900',\n",
       "  '4. close': '2.9900',\n",
       "  '5. volume': '318081'},\n",
       " '2025-05-08': {'1. open': '3.0200',\n",
       "  '2. high': '3.1600',\n",
       "  '3. low': '2.9600',\n",
       "  '4. close': '2.9900',\n",
       "  '5. volume': '580611'},\n",
       " '2025-05-07': {'1. open': '2.9400',\n",
       "  '2. high': '3.1400',\n",
       "  '3. low': '2.9000',\n",
       "  '4. close': '3.0300',\n",
       "  '5. volume': '473884'},\n",
       " '2025-05-06': {'1. open': '3.2000',\n",
       "  '2. high': '3.2100',\n",
       "  '3. low': '3.0000',\n",
       "  '4. close': '3.0100',\n",
       "  '5. volume': '1027684'},\n",
       " '2025-05-05': {'1. open': '3.2600',\n",
       "  '2. high': '3.2700',\n",
       "  '3. low': '3.1100',\n",
       "  '4. close': '3.2100',\n",
       "  '5. volume': '744651'}}"
      ]
     },
     "execution_count": 18,
     "metadata": {},
     "output_type": "execute_result"
    }
   ],
   "source": [
    "data2['Time Series (Daily)']"
   ]
  },
  {
   "cell_type": "code",
   "execution_count": 19,
   "id": "56f558b5",
   "metadata": {},
   "outputs": [
    {
     "data": {
      "text/html": [
       "<div>\n",
       "<style scoped>\n",
       "    .dataframe tbody tr th:only-of-type {\n",
       "        vertical-align: middle;\n",
       "    }\n",
       "\n",
       "    .dataframe tbody tr th {\n",
       "        vertical-align: top;\n",
       "    }\n",
       "\n",
       "    .dataframe thead th {\n",
       "        text-align: right;\n",
       "    }\n",
       "</style>\n",
       "<table border=\"1\" class=\"dataframe\">\n",
       "  <thead>\n",
       "    <tr style=\"text-align: right;\">\n",
       "      <th></th>\n",
       "      <th>1. open</th>\n",
       "      <th>2. high</th>\n",
       "      <th>3. low</th>\n",
       "      <th>4. close</th>\n",
       "      <th>5. volume</th>\n",
       "    </tr>\n",
       "  </thead>\n",
       "  <tbody>\n",
       "    <tr>\n",
       "      <th>2025-09-23</th>\n",
       "      <td>4.1600</td>\n",
       "      <td>4.1600</td>\n",
       "      <td>4.1600</td>\n",
       "      <td>4.1600</td>\n",
       "      <td>182979</td>\n",
       "    </tr>\n",
       "    <tr>\n",
       "      <th>2025-09-22</th>\n",
       "      <td>4.4500</td>\n",
       "      <td>4.4800</td>\n",
       "      <td>4.3700</td>\n",
       "      <td>4.3700</td>\n",
       "      <td>623903</td>\n",
       "    </tr>\n",
       "    <tr>\n",
       "      <th>2025-09-19</th>\n",
       "      <td>4.6300</td>\n",
       "      <td>4.6900</td>\n",
       "      <td>4.5700</td>\n",
       "      <td>4.6000</td>\n",
       "      <td>717715</td>\n",
       "    </tr>\n",
       "    <tr>\n",
       "      <th>2025-09-18</th>\n",
       "      <td>4.7000</td>\n",
       "      <td>4.7400</td>\n",
       "      <td>4.5300</td>\n",
       "      <td>4.6500</td>\n",
       "      <td>564078</td>\n",
       "    </tr>\n",
       "    <tr>\n",
       "      <th>2025-09-17</th>\n",
       "      <td>4.7700</td>\n",
       "      <td>4.7700</td>\n",
       "      <td>4.5500</td>\n",
       "      <td>4.6900</td>\n",
       "      <td>856457</td>\n",
       "    </tr>\n",
       "    <tr>\n",
       "      <th>...</th>\n",
       "      <td>...</td>\n",
       "      <td>...</td>\n",
       "      <td>...</td>\n",
       "      <td>...</td>\n",
       "      <td>...</td>\n",
       "    </tr>\n",
       "    <tr>\n",
       "      <th>2025-05-09</th>\n",
       "      <td>2.9100</td>\n",
       "      <td>3.0800</td>\n",
       "      <td>2.8900</td>\n",
       "      <td>2.9900</td>\n",
       "      <td>318081</td>\n",
       "    </tr>\n",
       "    <tr>\n",
       "      <th>2025-05-08</th>\n",
       "      <td>3.0200</td>\n",
       "      <td>3.1600</td>\n",
       "      <td>2.9600</td>\n",
       "      <td>2.9900</td>\n",
       "      <td>580611</td>\n",
       "    </tr>\n",
       "    <tr>\n",
       "      <th>2025-05-07</th>\n",
       "      <td>2.9400</td>\n",
       "      <td>3.1400</td>\n",
       "      <td>2.9000</td>\n",
       "      <td>3.0300</td>\n",
       "      <td>473884</td>\n",
       "    </tr>\n",
       "    <tr>\n",
       "      <th>2025-05-06</th>\n",
       "      <td>3.2000</td>\n",
       "      <td>3.2100</td>\n",
       "      <td>3.0000</td>\n",
       "      <td>3.0100</td>\n",
       "      <td>1027684</td>\n",
       "    </tr>\n",
       "    <tr>\n",
       "      <th>2025-05-05</th>\n",
       "      <td>3.2600</td>\n",
       "      <td>3.2700</td>\n",
       "      <td>3.1100</td>\n",
       "      <td>3.2100</td>\n",
       "      <td>744651</td>\n",
       "    </tr>\n",
       "  </tbody>\n",
       "</table>\n",
       "<p>100 rows × 5 columns</p>\n",
       "</div>"
      ],
      "text/plain": [
       "           1. open 2. high  3. low 4. close 5. volume\n",
       "2025-09-23  4.1600  4.1600  4.1600   4.1600    182979\n",
       "2025-09-22  4.4500  4.4800  4.3700   4.3700    623903\n",
       "2025-09-19  4.6300  4.6900  4.5700   4.6000    717715\n",
       "2025-09-18  4.7000  4.7400  4.5300   4.6500    564078\n",
       "2025-09-17  4.7700  4.7700  4.5500   4.6900    856457\n",
       "...            ...     ...     ...      ...       ...\n",
       "2025-05-09  2.9100  3.0800  2.8900   2.9900    318081\n",
       "2025-05-08  3.0200  3.1600  2.9600   2.9900    580611\n",
       "2025-05-07  2.9400  3.1400  2.9000   3.0300    473884\n",
       "2025-05-06  3.2000  3.2100  3.0000   3.0100   1027684\n",
       "2025-05-05  3.2600  3.2700  3.1100   3.2100    744651\n",
       "\n",
       "[100 rows x 5 columns]"
      ]
     },
     "execution_count": 19,
     "metadata": {},
     "output_type": "execute_result"
    }
   ],
   "source": [
    "df = pd.DataFrame(data2['Time Series (Daily)']).T\n",
    "df"
   ]
  },
  {
   "cell_type": "code",
   "execution_count": 20,
   "id": "4ed347de",
   "metadata": {},
   "outputs": [
    {
     "data": {
      "text/plain": [
       "1. open      object\n",
       "2. high      object\n",
       "3. low       object\n",
       "4. close     object\n",
       "5. volume    object\n",
       "dtype: object"
      ]
     },
     "execution_count": 20,
     "metadata": {},
     "output_type": "execute_result"
    }
   ],
   "source": [
    "df.dtypes"
   ]
  },
  {
   "cell_type": "code",
   "execution_count": 21,
   "id": "bfaca836",
   "metadata": {},
   "outputs": [
    {
     "data": {
      "text/plain": [
       "Index(['2025-09-23', '2025-09-22', '2025-09-19', '2025-09-18', '2025-09-17',\n",
       "       '2025-09-16', '2025-09-15', '2025-09-12', '2025-09-11', '2025-09-10',\n",
       "       '2025-09-09', '2025-09-08', '2025-09-05', '2025-09-04', '2025-09-03',\n",
       "       '2025-09-02', '2025-09-01', '2025-08-29', '2025-08-28', '2025-08-26',\n",
       "       '2025-08-25', '2025-08-22', '2025-08-21', '2025-08-20', '2025-08-19',\n",
       "       '2025-08-18', '2025-08-14', '2025-08-13', '2025-08-12', '2025-08-11',\n",
       "       '2025-08-08', '2025-08-07', '2025-08-06', '2025-08-05', '2025-08-04',\n",
       "       '2025-08-01', '2025-07-31', '2025-07-30', '2025-07-29', '2025-07-28',\n",
       "       '2025-07-25', '2025-07-24', '2025-07-23', '2025-07-22', '2025-07-21',\n",
       "       '2025-07-18', '2025-07-17', '2025-07-16', '2025-07-15', '2025-07-14',\n",
       "       '2025-07-11', '2025-07-10', '2025-07-09', '2025-07-08', '2025-07-07',\n",
       "       '2025-07-04', '2025-07-03', '2025-07-02', '2025-07-01', '2025-06-30',\n",
       "       '2025-06-27', '2025-06-26', '2025-06-25', '2025-06-24', '2025-06-23',\n",
       "       '2025-06-20', '2025-06-19', '2025-06-18', '2025-06-17', '2025-06-16',\n",
       "       '2025-06-13', '2025-06-12', '2025-06-11', '2025-06-10', '2025-06-09',\n",
       "       '2025-06-06', '2025-06-05', '2025-06-04', '2025-06-03', '2025-06-02',\n",
       "       '2025-05-30', '2025-05-29', '2025-05-28', '2025-05-27', '2025-05-26',\n",
       "       '2025-05-23', '2025-05-22', '2025-05-21', '2025-05-20', '2025-05-19',\n",
       "       '2025-05-16', '2025-05-15', '2025-05-14', '2025-05-13', '2025-05-12',\n",
       "       '2025-05-09', '2025-05-08', '2025-05-07', '2025-05-06', '2025-05-05'],\n",
       "      dtype='object')"
      ]
     },
     "execution_count": 21,
     "metadata": {},
     "output_type": "execute_result"
    }
   ],
   "source": [
    "# convert data in float and in datetime\n",
    "df.index"
   ]
  },
  {
   "cell_type": "code",
   "execution_count": 22,
   "id": "26406d7c",
   "metadata": {},
   "outputs": [],
   "source": [
    "df = df.astype('float')"
   ]
  },
  {
   "cell_type": "code",
   "execution_count": 23,
   "id": "7db18b5a",
   "metadata": {},
   "outputs": [
    {
     "data": {
      "text/plain": [
       "1. open      float64\n",
       "2. high      float64\n",
       "3. low       float64\n",
       "4. close     float64\n",
       "5. volume    float64\n",
       "dtype: object"
      ]
     },
     "execution_count": 23,
     "metadata": {},
     "output_type": "execute_result"
    }
   ],
   "source": [
    "df.dtypes"
   ]
  },
  {
   "cell_type": "code",
   "execution_count": 24,
   "id": "3e074af8",
   "metadata": {},
   "outputs": [],
   "source": [
    "# for index\n",
    "df.index = pd.to_datetime(df.index)"
   ]
  },
  {
   "cell_type": "code",
   "execution_count": 25,
   "id": "b5c76361",
   "metadata": {},
   "outputs": [
    {
     "data": {
      "text/plain": [
       "DatetimeIndex(['2025-09-23', '2025-09-22', '2025-09-19', '2025-09-18',\n",
       "               '2025-09-17', '2025-09-16', '2025-09-15', '2025-09-12',\n",
       "               '2025-09-11', '2025-09-10', '2025-09-09', '2025-09-08',\n",
       "               '2025-09-05', '2025-09-04', '2025-09-03', '2025-09-02',\n",
       "               '2025-09-01', '2025-08-29', '2025-08-28', '2025-08-26',\n",
       "               '2025-08-25', '2025-08-22', '2025-08-21', '2025-08-20',\n",
       "               '2025-08-19', '2025-08-18', '2025-08-14', '2025-08-13',\n",
       "               '2025-08-12', '2025-08-11', '2025-08-08', '2025-08-07',\n",
       "               '2025-08-06', '2025-08-05', '2025-08-04', '2025-08-01',\n",
       "               '2025-07-31', '2025-07-30', '2025-07-29', '2025-07-28',\n",
       "               '2025-07-25', '2025-07-24', '2025-07-23', '2025-07-22',\n",
       "               '2025-07-21', '2025-07-18', '2025-07-17', '2025-07-16',\n",
       "               '2025-07-15', '2025-07-14', '2025-07-11', '2025-07-10',\n",
       "               '2025-07-09', '2025-07-08', '2025-07-07', '2025-07-04',\n",
       "               '2025-07-03', '2025-07-02', '2025-07-01', '2025-06-30',\n",
       "               '2025-06-27', '2025-06-26', '2025-06-25', '2025-06-24',\n",
       "               '2025-06-23', '2025-06-20', '2025-06-19', '2025-06-18',\n",
       "               '2025-06-17', '2025-06-16', '2025-06-13', '2025-06-12',\n",
       "               '2025-06-11', '2025-06-10', '2025-06-09', '2025-06-06',\n",
       "               '2025-06-05', '2025-06-04', '2025-06-03', '2025-06-02',\n",
       "               '2025-05-30', '2025-05-29', '2025-05-28', '2025-05-27',\n",
       "               '2025-05-26', '2025-05-23', '2025-05-22', '2025-05-21',\n",
       "               '2025-05-20', '2025-05-19', '2025-05-16', '2025-05-15',\n",
       "               '2025-05-14', '2025-05-13', '2025-05-12', '2025-05-09',\n",
       "               '2025-05-08', '2025-05-07', '2025-05-06', '2025-05-05'],\n",
       "              dtype='datetime64[ns]', freq=None)"
      ]
     },
     "execution_count": 25,
     "metadata": {},
     "output_type": "execute_result"
    }
   ],
   "source": [
    "df.index"
   ]
  },
  {
   "cell_type": "code",
   "execution_count": 26,
   "id": "d553b9e6",
   "metadata": {},
   "outputs": [],
   "source": [
    "# give name to index\n",
    "df.index.name = 'Date'"
   ]
  },
  {
   "cell_type": "code",
   "execution_count": 27,
   "id": "07c80d2b",
   "metadata": {},
   "outputs": [
    {
     "data": {
      "text/html": [
       "<div>\n",
       "<style scoped>\n",
       "    .dataframe tbody tr th:only-of-type {\n",
       "        vertical-align: middle;\n",
       "    }\n",
       "\n",
       "    .dataframe tbody tr th {\n",
       "        vertical-align: top;\n",
       "    }\n",
       "\n",
       "    .dataframe thead th {\n",
       "        text-align: right;\n",
       "    }\n",
       "</style>\n",
       "<table border=\"1\" class=\"dataframe\">\n",
       "  <thead>\n",
       "    <tr style=\"text-align: right;\">\n",
       "      <th></th>\n",
       "      <th>1. open</th>\n",
       "      <th>2. high</th>\n",
       "      <th>3. low</th>\n",
       "      <th>4. close</th>\n",
       "      <th>5. volume</th>\n",
       "    </tr>\n",
       "    <tr>\n",
       "      <th>Date</th>\n",
       "      <th></th>\n",
       "      <th></th>\n",
       "      <th></th>\n",
       "      <th></th>\n",
       "      <th></th>\n",
       "    </tr>\n",
       "  </thead>\n",
       "  <tbody>\n",
       "    <tr>\n",
       "      <th>2025-09-23</th>\n",
       "      <td>4.16</td>\n",
       "      <td>4.16</td>\n",
       "      <td>4.16</td>\n",
       "      <td>4.16</td>\n",
       "      <td>182979.0</td>\n",
       "    </tr>\n",
       "    <tr>\n",
       "      <th>2025-09-22</th>\n",
       "      <td>4.45</td>\n",
       "      <td>4.48</td>\n",
       "      <td>4.37</td>\n",
       "      <td>4.37</td>\n",
       "      <td>623903.0</td>\n",
       "    </tr>\n",
       "    <tr>\n",
       "      <th>2025-09-19</th>\n",
       "      <td>4.63</td>\n",
       "      <td>4.69</td>\n",
       "      <td>4.57</td>\n",
       "      <td>4.60</td>\n",
       "      <td>717715.0</td>\n",
       "    </tr>\n",
       "    <tr>\n",
       "      <th>2025-09-18</th>\n",
       "      <td>4.70</td>\n",
       "      <td>4.74</td>\n",
       "      <td>4.53</td>\n",
       "      <td>4.65</td>\n",
       "      <td>564078.0</td>\n",
       "    </tr>\n",
       "    <tr>\n",
       "      <th>2025-09-17</th>\n",
       "      <td>4.77</td>\n",
       "      <td>4.77</td>\n",
       "      <td>4.55</td>\n",
       "      <td>4.69</td>\n",
       "      <td>856457.0</td>\n",
       "    </tr>\n",
       "  </tbody>\n",
       "</table>\n",
       "</div>"
      ],
      "text/plain": [
       "            1. open  2. high  3. low  4. close  5. volume\n",
       "Date                                                     \n",
       "2025-09-23     4.16     4.16    4.16      4.16   182979.0\n",
       "2025-09-22     4.45     4.48    4.37      4.37   623903.0\n",
       "2025-09-19     4.63     4.69    4.57      4.60   717715.0\n",
       "2025-09-18     4.70     4.74    4.53      4.65   564078.0\n",
       "2025-09-17     4.77     4.77    4.55      4.69   856457.0"
      ]
     },
     "execution_count": 27,
     "metadata": {},
     "output_type": "execute_result"
    }
   ],
   "source": [
    "df.head()"
   ]
  },
  {
   "cell_type": "code",
   "execution_count": 29,
   "id": "f6d36934",
   "metadata": {},
   "outputs": [],
   "source": [
    "### plot candelstick chart"
   ]
  },
  {
   "cell_type": "code",
   "execution_count": 30,
   "id": "6e6e0ef4",
   "metadata": {},
   "outputs": [],
   "source": [
    "import plotly.graph_objects as go"
   ]
  },
  {
   "cell_type": "code",
   "execution_count": 31,
   "id": "6735890a",
   "metadata": {},
   "outputs": [
    {
     "data": {
      "application/vnd.plotly.v1+json": {
       "config": {
        "plotlyServerURL": "https://plot.ly"
       },
       "data": [
        {
         "close": {
          "bdata": "pHA9CtejEEB7FK5H4XoRQGZmZmZmZhJAmpmZmZmZEkDD9Shcj8ISQPYoXI/C9RJA16NwPQrXEkDsUbgehesSQHsUrkfhehJA4XoUrkfhEkDsUbgehesSQD0K16NwPRNAKVyPwvUoE0BSuB6F61ETQFyPwvUoXBNAFK5H4XoUFEApXI/C9SgTQBSuR+F6FBNAuB6F61G4E0DXo3A9CtcTQOF6FK5H4RRA9ihcj8L1FUAUrkfhehQVQBSuR+F6FBRAKVyPwvUoE0CamZmZmZkSQFyPwvUoXBJAXI/C9ShcEkD2KFyPwvUSQNejcD0K1xJA7FG4HoXrEkDNzMzMzMwTQHsUrkfhehNAmpmZmZmZEkCPwvUoXI8TQI/C9ShcjxRApHA9CtejE0DNzMzMzMwSQOxRuB6F6xFAFK5H4XoUEUD2KFyPwvURQOF6FK5H4RJASOF6FK5HEkA9CtejcD0TQD0K16NwPRRASOF6FK5HFUCuR+F6FK4VQEjhehSuRxVArkfhehSuFUAfhetRuB4WQIXrUbgehRZAFK5H4XoUFkCuR+F6FK4VQB+F61G4HhZAj8L1KFyPFkAAAAAAAAAXQHE9CtejcBdA4XoUrkfhF0Bcj8L1KFwYQNejcD0K1xhAUrgehetRGUDNzMzMzMwZQFK4HoXrURpA16NwPQrXGkBcj8L1KFwbQOF6FK5H4RtAcT0K16NwHEAAAAAAAAAdQI/C9Shcjx1AKVyPwvUoHkDD9Shcj8IeQFyPwvUoXB9A4XoUrkfhHUB7FK5H4XocQClcj8L1KBtA4XoUrkfhGUCuR+F6FK4YQIXrUbgehRdAZmZmZmZmFkBcj8L1KFwVQFyPwvUoXBRAZmZmZmZmE0B7FK5H4XoSQJqZmZmZmRFAAAAAAAAAEEAfhetRuB4NQHsUrkfhegpA4XoUrkfhCkCPwvUoXI8KQI/C9ShcjwpAZmZmZmZmCkA9CtejcD0KQFK4HoXrUQpAZmZmZmZmCkA9CtejcD0KQOxRuB6F6wdA7FG4HoXrB0A9CtejcD0IQBSuR+F6FAhArkfhehSuCUA=",
          "dtype": "f8"
         },
         "high": {
          "bdata": "pHA9CtejEEDsUbgehesRQMP1KFyPwhJA9ihcj8L1EkAUrkfhehQTQB+F61G4HhNAUrgehetRE0AfhetRuB4TQB+F61G4HhNAPQrXo3A9E0DXo3A9CtcTQAAAAAAAABRApHA9CtejE0DD9Shcj8ITQDMzMzMzMxRAFK5H4XoUFEDNzMzMzMwTQDMzMzMzMxRASOF6FK5HFEApXI/C9SgUQClcj8L1KBVAH4XrUbgeFkAUrkfhehQVQBSuR+F6FBRASOF6FK5HE0ApXI/C9SgTQM3MzMzMzBJAH4XrUbgeE0AzMzMzMzMTQClcj8L1KBNAZmZmZmZmFEBxPQrXo3AUQIXrUbgehRNAmpmZmZmZEkCPwvUoXI8TQJqZmZmZmRRAuB6F61G4E0DNzMzMzMwSQOxRuB6F6xFAw/UoXI/CEUD2KFyPwvURQClcj8L1KBNAzczMzMzMEkBSuB6F61EUQJqZmZmZmRVAmpmZmZmZFUCuR+F6FK4VQEjhehSuRxVAAAAAAAAAFkAzMzMzMzMWQIXrUbgehRZAFK5H4XoUFkCuR+F6FK4VQB+F61G4HhZAj8L1KFyPFkAAAAAAAAAXQHE9CtejcBdA4XoUrkfhF0Bcj8L1KFwYQNejcD0K1xhAUrgehetRGUDNzMzMzMwZQFK4HoXrURpA16NwPQrXGkBcj8L1KFwbQOF6FK5H4RtAcT0K16NwHEAAAAAAAAAdQI/C9Shcjx1AKVyPwvUoHkDD9Shcj8IeQFyPwvUoXB9A4XoUrkfhHUB7FK5H4XocQClcj8L1KBtA4XoUrkfhGUCuR+F6FK4YQIXrUbgehRdAZmZmZmZmFkBcj8L1KFwVQFyPwvUoXBRAZmZmZmZmE0B7FK5H4XoSQJqZmZmZmRFAAAAAAAAAEEAfhetRuB4NQJqZmZmZmQtAAAAAAAAADEAzMzMzMzMLQJqZmZmZmQtAzczMzMzMCkDhehSuR+EKQPYoXI/C9QpACtejcD0KC0A9CtejcD0KQKRwPQrXowhASOF6FK5HCUAfhetRuB4JQK5H4XoUrglAKVyPwvUoCkA=",
          "dtype": "f8"
         },
         "low": {
          "bdata": "pHA9CtejEEB7FK5H4XoRQEjhehSuRxJAH4XrUbgeEkAzMzMzMzMSQK5H4XoUrhJAmpmZmZmZEkB7FK5H4XoSQGZmZmZmZhJApHA9CtejEkC4HoXrUbgSQArXo3A9ChNA4XoUrkfhEkDNzMzMzMwSQEjhehSuRxNAzczMzMzMEkBI4XoUrkcSQAAAAAAAABNA4XoUrkfhEkDXo3A9CtcTQOF6FK5H4RRAFK5H4XoUFUD2KFyPwvUTQJqZmZmZmRJACtejcD0KEkDhehSuR+ERQLgehetRuBFAMzMzMzMzEkCamZmZmZkSQKRwPQrXoxJA16NwPQrXEkCF61G4HoUSQK5H4XoUrhFAmpmZmZmZEkCPwvUoXI8TQDMzMzMzMxNA4XoUrkfhEUBI4XoUrkcSQD0K16NwPRBAFK5H4XoUEUD2KFyPwvURQGZmZmZmZhFASOF6FK5HEkA9CtejcD0TQD0K16NwPRRASOF6FK5HFUApXI/C9SgVQEjhehSuRxVArkfhehSuFUAfhetRuB4WQIXrUbgehRZAmpmZmZmZFUCuR+F6FK4VQB+F61G4HhZAj8L1KFyPFkAAAAAAAAAXQHE9CtejcBdA4XoUrkfhF0Bcj8L1KFwYQNejcD0K1xhAUrgehetRGUDNzMzMzMwZQFK4HoXrURpA16NwPQrXGkBcj8L1KFwbQOF6FK5H4RtAcT0K16NwHEAAAAAAAAAdQI/C9Shcjx1AKVyPwvUoHkDD9Shcj8IeQFyPwvUoXB9A4XoUrkfhHUBI4XoUrkccQClcj8L1KBtA4XoUrkfhGUCuR+F6FK4YQGZmZmZmZhZAzczMzMzMFUCamZmZmZkUQEjhehSuRxNAZmZmZmZmE0B7FK5H4XoSQJqZmZmZmRFAZmZmZmZmDkBSuB6F61EKQFK4HoXrUQpApHA9CtejCEA9CtejcD0KQGZmZmZmZgpA7FG4HoXrCUAUrkfhehQKQBSuR+F6FApAAAAAAAAACkDsUbgehesHQB+F61G4HgdArkfhehSuB0AzMzMzMzMHQAAAAAAAAAhA4XoUrkfhCEA=",
          "dtype": "f8"
         },
         "open": {
          "bdata": "pHA9CtejEEDNzMzMzMwRQIXrUbgehRJAzczMzMzMEkAUrkfhehQTQNejcD0K1xJAUrgehetRE0CF61G4HoUSQAAAAAAAABNA4XoUrkfhEkAK16NwPQoTQArXo3A9ChNAMzMzMzMzE0CuR+F6FK4TQM3MzMzMzBNAKVyPwvUoE0AfhetRuB4TQOxRuB6F6xNA4XoUrkfhEkDXo3A9CtcTQClcj8L1KBVA7FG4HoXrFUAzMzMzMzMUQEjhehSuRxNAAAAAAAAAE0DhehSuR+ERQIXrUbgehRJAH4XrUbgeE0AAAAAAAAATQOF6FK5H4RJAZmZmZmZmFECF61G4HoUTQK5H4XoUrhFAmpmZmZmZEkCPwvUoXI8TQKRwPQrXoxNAw/UoXI/CEkBcj8L1KFwSQD0K16NwPRBAFK5H4XoUEUD2KFyPwvURQGZmZmZmZhFAhetRuB6FEkDsUbgehesTQB+F61G4HhVAmpmZmZmZFUApXI/C9SgVQEjhehSuRxVAAAAAAAAAFkAzMzMzMzMWQIXrUbgehRZAmpmZmZmZFUCuR+F6FK4VQB+F61G4HhZAj8L1KFyPFkAAAAAAAAAXQHE9CtejcBdA4XoUrkfhF0Bcj8L1KFwYQNejcD0K1xhAUrgehetRGUDNzMzMzMwZQFK4HoXrURpA16NwPQrXGkBcj8L1KFwbQOF6FK5H4RtAcT0K16NwHEAAAAAAAAAdQI/C9Shcjx1AKVyPwvUoHkDD9Shcj8IeQFyPwvUoXB9A4XoUrkfhHUBI4XoUrkccQClcj8L1KBtA4XoUrkfhGUCuR+F6FK4YQHsUrkfhehZAZmZmZmZmFkDsUbgehesUQFyPwvUoXBRAZmZmZmZmE0B7FK5H4XoSQJqZmZmZmRFAzczMzMzMDkBSuB6F61EKQFyPwvUoXAtAj8L1KFyPCkCPwvUoXI8KQI/C9ShcjwpAKVyPwvUoCkA9CtejcD0KQPYoXI/C9QpAPQrXo3A9CkDsUbgehesHQEjhehSuRwdAKVyPwvUoCECF61G4HoUHQJqZmZmZmQlAFK5H4XoUCkA=",
          "dtype": "f8"
         },
         "type": "candlestick",
         "x": [
          "2025-09-23T00:00:00.000000000",
          "2025-09-22T00:00:00.000000000",
          "2025-09-19T00:00:00.000000000",
          "2025-09-18T00:00:00.000000000",
          "2025-09-17T00:00:00.000000000",
          "2025-09-16T00:00:00.000000000",
          "2025-09-15T00:00:00.000000000",
          "2025-09-12T00:00:00.000000000",
          "2025-09-11T00:00:00.000000000",
          "2025-09-10T00:00:00.000000000",
          "2025-09-09T00:00:00.000000000",
          "2025-09-08T00:00:00.000000000",
          "2025-09-05T00:00:00.000000000",
          "2025-09-04T00:00:00.000000000",
          "2025-09-03T00:00:00.000000000",
          "2025-09-02T00:00:00.000000000",
          "2025-09-01T00:00:00.000000000",
          "2025-08-29T00:00:00.000000000",
          "2025-08-28T00:00:00.000000000",
          "2025-08-26T00:00:00.000000000",
          "2025-08-25T00:00:00.000000000",
          "2025-08-22T00:00:00.000000000",
          "2025-08-21T00:00:00.000000000",
          "2025-08-20T00:00:00.000000000",
          "2025-08-19T00:00:00.000000000",
          "2025-08-18T00:00:00.000000000",
          "2025-08-14T00:00:00.000000000",
          "2025-08-13T00:00:00.000000000",
          "2025-08-12T00:00:00.000000000",
          "2025-08-11T00:00:00.000000000",
          "2025-08-08T00:00:00.000000000",
          "2025-08-07T00:00:00.000000000",
          "2025-08-06T00:00:00.000000000",
          "2025-08-05T00:00:00.000000000",
          "2025-08-04T00:00:00.000000000",
          "2025-08-01T00:00:00.000000000",
          "2025-07-31T00:00:00.000000000",
          "2025-07-30T00:00:00.000000000",
          "2025-07-29T00:00:00.000000000",
          "2025-07-28T00:00:00.000000000",
          "2025-07-25T00:00:00.000000000",
          "2025-07-24T00:00:00.000000000",
          "2025-07-23T00:00:00.000000000",
          "2025-07-22T00:00:00.000000000",
          "2025-07-21T00:00:00.000000000",
          "2025-07-18T00:00:00.000000000",
          "2025-07-17T00:00:00.000000000",
          "2025-07-16T00:00:00.000000000",
          "2025-07-15T00:00:00.000000000",
          "2025-07-14T00:00:00.000000000",
          "2025-07-11T00:00:00.000000000",
          "2025-07-10T00:00:00.000000000",
          "2025-07-09T00:00:00.000000000",
          "2025-07-08T00:00:00.000000000",
          "2025-07-07T00:00:00.000000000",
          "2025-07-04T00:00:00.000000000",
          "2025-07-03T00:00:00.000000000",
          "2025-07-02T00:00:00.000000000",
          "2025-07-01T00:00:00.000000000",
          "2025-06-30T00:00:00.000000000",
          "2025-06-27T00:00:00.000000000",
          "2025-06-26T00:00:00.000000000",
          "2025-06-25T00:00:00.000000000",
          "2025-06-24T00:00:00.000000000",
          "2025-06-23T00:00:00.000000000",
          "2025-06-20T00:00:00.000000000",
          "2025-06-19T00:00:00.000000000",
          "2025-06-18T00:00:00.000000000",
          "2025-06-17T00:00:00.000000000",
          "2025-06-16T00:00:00.000000000",
          "2025-06-13T00:00:00.000000000",
          "2025-06-12T00:00:00.000000000",
          "2025-06-11T00:00:00.000000000",
          "2025-06-10T00:00:00.000000000",
          "2025-06-09T00:00:00.000000000",
          "2025-06-06T00:00:00.000000000",
          "2025-06-05T00:00:00.000000000",
          "2025-06-04T00:00:00.000000000",
          "2025-06-03T00:00:00.000000000",
          "2025-06-02T00:00:00.000000000",
          "2025-05-30T00:00:00.000000000",
          "2025-05-29T00:00:00.000000000",
          "2025-05-28T00:00:00.000000000",
          "2025-05-27T00:00:00.000000000",
          "2025-05-26T00:00:00.000000000",
          "2025-05-23T00:00:00.000000000",
          "2025-05-22T00:00:00.000000000",
          "2025-05-21T00:00:00.000000000",
          "2025-05-20T00:00:00.000000000",
          "2025-05-19T00:00:00.000000000",
          "2025-05-16T00:00:00.000000000",
          "2025-05-15T00:00:00.000000000",
          "2025-05-14T00:00:00.000000000",
          "2025-05-13T00:00:00.000000000",
          "2025-05-12T00:00:00.000000000",
          "2025-05-09T00:00:00.000000000",
          "2025-05-08T00:00:00.000000000",
          "2025-05-07T00:00:00.000000000",
          "2025-05-06T00:00:00.000000000",
          "2025-05-05T00:00:00.000000000"
         ]
        }
       ],
       "layout": {
        "template": {
         "data": {
          "bar": [
           {
            "error_x": {
             "color": "#2a3f5f"
            },
            "error_y": {
             "color": "#2a3f5f"
            },
            "marker": {
             "line": {
              "color": "#E5ECF6",
              "width": 0.5
             },
             "pattern": {
              "fillmode": "overlay",
              "size": 10,
              "solidity": 0.2
             }
            },
            "type": "bar"
           }
          ],
          "barpolar": [
           {
            "marker": {
             "line": {
              "color": "#E5ECF6",
              "width": 0.5
             },
             "pattern": {
              "fillmode": "overlay",
              "size": 10,
              "solidity": 0.2
             }
            },
            "type": "barpolar"
           }
          ],
          "carpet": [
           {
            "aaxis": {
             "endlinecolor": "#2a3f5f",
             "gridcolor": "white",
             "linecolor": "white",
             "minorgridcolor": "white",
             "startlinecolor": "#2a3f5f"
            },
            "baxis": {
             "endlinecolor": "#2a3f5f",
             "gridcolor": "white",
             "linecolor": "white",
             "minorgridcolor": "white",
             "startlinecolor": "#2a3f5f"
            },
            "type": "carpet"
           }
          ],
          "choropleth": [
           {
            "colorbar": {
             "outlinewidth": 0,
             "ticks": ""
            },
            "type": "choropleth"
           }
          ],
          "contour": [
           {
            "colorbar": {
             "outlinewidth": 0,
             "ticks": ""
            },
            "colorscale": [
             [
              0,
              "#0d0887"
             ],
             [
              0.1111111111111111,
              "#46039f"
             ],
             [
              0.2222222222222222,
              "#7201a8"
             ],
             [
              0.3333333333333333,
              "#9c179e"
             ],
             [
              0.4444444444444444,
              "#bd3786"
             ],
             [
              0.5555555555555556,
              "#d8576b"
             ],
             [
              0.6666666666666666,
              "#ed7953"
             ],
             [
              0.7777777777777778,
              "#fb9f3a"
             ],
             [
              0.8888888888888888,
              "#fdca26"
             ],
             [
              1,
              "#f0f921"
             ]
            ],
            "type": "contour"
           }
          ],
          "contourcarpet": [
           {
            "colorbar": {
             "outlinewidth": 0,
             "ticks": ""
            },
            "type": "contourcarpet"
           }
          ],
          "heatmap": [
           {
            "colorbar": {
             "outlinewidth": 0,
             "ticks": ""
            },
            "colorscale": [
             [
              0,
              "#0d0887"
             ],
             [
              0.1111111111111111,
              "#46039f"
             ],
             [
              0.2222222222222222,
              "#7201a8"
             ],
             [
              0.3333333333333333,
              "#9c179e"
             ],
             [
              0.4444444444444444,
              "#bd3786"
             ],
             [
              0.5555555555555556,
              "#d8576b"
             ],
             [
              0.6666666666666666,
              "#ed7953"
             ],
             [
              0.7777777777777778,
              "#fb9f3a"
             ],
             [
              0.8888888888888888,
              "#fdca26"
             ],
             [
              1,
              "#f0f921"
             ]
            ],
            "type": "heatmap"
           }
          ],
          "histogram": [
           {
            "marker": {
             "pattern": {
              "fillmode": "overlay",
              "size": 10,
              "solidity": 0.2
             }
            },
            "type": "histogram"
           }
          ],
          "histogram2d": [
           {
            "colorbar": {
             "outlinewidth": 0,
             "ticks": ""
            },
            "colorscale": [
             [
              0,
              "#0d0887"
             ],
             [
              0.1111111111111111,
              "#46039f"
             ],
             [
              0.2222222222222222,
              "#7201a8"
             ],
             [
              0.3333333333333333,
              "#9c179e"
             ],
             [
              0.4444444444444444,
              "#bd3786"
             ],
             [
              0.5555555555555556,
              "#d8576b"
             ],
             [
              0.6666666666666666,
              "#ed7953"
             ],
             [
              0.7777777777777778,
              "#fb9f3a"
             ],
             [
              0.8888888888888888,
              "#fdca26"
             ],
             [
              1,
              "#f0f921"
             ]
            ],
            "type": "histogram2d"
           }
          ],
          "histogram2dcontour": [
           {
            "colorbar": {
             "outlinewidth": 0,
             "ticks": ""
            },
            "colorscale": [
             [
              0,
              "#0d0887"
             ],
             [
              0.1111111111111111,
              "#46039f"
             ],
             [
              0.2222222222222222,
              "#7201a8"
             ],
             [
              0.3333333333333333,
              "#9c179e"
             ],
             [
              0.4444444444444444,
              "#bd3786"
             ],
             [
              0.5555555555555556,
              "#d8576b"
             ],
             [
              0.6666666666666666,
              "#ed7953"
             ],
             [
              0.7777777777777778,
              "#fb9f3a"
             ],
             [
              0.8888888888888888,
              "#fdca26"
             ],
             [
              1,
              "#f0f921"
             ]
            ],
            "type": "histogram2dcontour"
           }
          ],
          "mesh3d": [
           {
            "colorbar": {
             "outlinewidth": 0,
             "ticks": ""
            },
            "type": "mesh3d"
           }
          ],
          "parcoords": [
           {
            "line": {
             "colorbar": {
              "outlinewidth": 0,
              "ticks": ""
             }
            },
            "type": "parcoords"
           }
          ],
          "pie": [
           {
            "automargin": true,
            "type": "pie"
           }
          ],
          "scatter": [
           {
            "fillpattern": {
             "fillmode": "overlay",
             "size": 10,
             "solidity": 0.2
            },
            "type": "scatter"
           }
          ],
          "scatter3d": [
           {
            "line": {
             "colorbar": {
              "outlinewidth": 0,
              "ticks": ""
             }
            },
            "marker": {
             "colorbar": {
              "outlinewidth": 0,
              "ticks": ""
             }
            },
            "type": "scatter3d"
           }
          ],
          "scattercarpet": [
           {
            "marker": {
             "colorbar": {
              "outlinewidth": 0,
              "ticks": ""
             }
            },
            "type": "scattercarpet"
           }
          ],
          "scattergeo": [
           {
            "marker": {
             "colorbar": {
              "outlinewidth": 0,
              "ticks": ""
             }
            },
            "type": "scattergeo"
           }
          ],
          "scattergl": [
           {
            "marker": {
             "colorbar": {
              "outlinewidth": 0,
              "ticks": ""
             }
            },
            "type": "scattergl"
           }
          ],
          "scattermap": [
           {
            "marker": {
             "colorbar": {
              "outlinewidth": 0,
              "ticks": ""
             }
            },
            "type": "scattermap"
           }
          ],
          "scattermapbox": [
           {
            "marker": {
             "colorbar": {
              "outlinewidth": 0,
              "ticks": ""
             }
            },
            "type": "scattermapbox"
           }
          ],
          "scatterpolar": [
           {
            "marker": {
             "colorbar": {
              "outlinewidth": 0,
              "ticks": ""
             }
            },
            "type": "scatterpolar"
           }
          ],
          "scatterpolargl": [
           {
            "marker": {
             "colorbar": {
              "outlinewidth": 0,
              "ticks": ""
             }
            },
            "type": "scatterpolargl"
           }
          ],
          "scatterternary": [
           {
            "marker": {
             "colorbar": {
              "outlinewidth": 0,
              "ticks": ""
             }
            },
            "type": "scatterternary"
           }
          ],
          "surface": [
           {
            "colorbar": {
             "outlinewidth": 0,
             "ticks": ""
            },
            "colorscale": [
             [
              0,
              "#0d0887"
             ],
             [
              0.1111111111111111,
              "#46039f"
             ],
             [
              0.2222222222222222,
              "#7201a8"
             ],
             [
              0.3333333333333333,
              "#9c179e"
             ],
             [
              0.4444444444444444,
              "#bd3786"
             ],
             [
              0.5555555555555556,
              "#d8576b"
             ],
             [
              0.6666666666666666,
              "#ed7953"
             ],
             [
              0.7777777777777778,
              "#fb9f3a"
             ],
             [
              0.8888888888888888,
              "#fdca26"
             ],
             [
              1,
              "#f0f921"
             ]
            ],
            "type": "surface"
           }
          ],
          "table": [
           {
            "cells": {
             "fill": {
              "color": "#EBF0F8"
             },
             "line": {
              "color": "white"
             }
            },
            "header": {
             "fill": {
              "color": "#C8D4E3"
             },
             "line": {
              "color": "white"
             }
            },
            "type": "table"
           }
          ]
         },
         "layout": {
          "annotationdefaults": {
           "arrowcolor": "#2a3f5f",
           "arrowhead": 0,
           "arrowwidth": 1
          },
          "autotypenumbers": "strict",
          "coloraxis": {
           "colorbar": {
            "outlinewidth": 0,
            "ticks": ""
           }
          },
          "colorscale": {
           "diverging": [
            [
             0,
             "#8e0152"
            ],
            [
             0.1,
             "#c51b7d"
            ],
            [
             0.2,
             "#de77ae"
            ],
            [
             0.3,
             "#f1b6da"
            ],
            [
             0.4,
             "#fde0ef"
            ],
            [
             0.5,
             "#f7f7f7"
            ],
            [
             0.6,
             "#e6f5d0"
            ],
            [
             0.7,
             "#b8e186"
            ],
            [
             0.8,
             "#7fbc41"
            ],
            [
             0.9,
             "#4d9221"
            ],
            [
             1,
             "#276419"
            ]
           ],
           "sequential": [
            [
             0,
             "#0d0887"
            ],
            [
             0.1111111111111111,
             "#46039f"
            ],
            [
             0.2222222222222222,
             "#7201a8"
            ],
            [
             0.3333333333333333,
             "#9c179e"
            ],
            [
             0.4444444444444444,
             "#bd3786"
            ],
            [
             0.5555555555555556,
             "#d8576b"
            ],
            [
             0.6666666666666666,
             "#ed7953"
            ],
            [
             0.7777777777777778,
             "#fb9f3a"
            ],
            [
             0.8888888888888888,
             "#fdca26"
            ],
            [
             1,
             "#f0f921"
            ]
           ],
           "sequentialminus": [
            [
             0,
             "#0d0887"
            ],
            [
             0.1111111111111111,
             "#46039f"
            ],
            [
             0.2222222222222222,
             "#7201a8"
            ],
            [
             0.3333333333333333,
             "#9c179e"
            ],
            [
             0.4444444444444444,
             "#bd3786"
            ],
            [
             0.5555555555555556,
             "#d8576b"
            ],
            [
             0.6666666666666666,
             "#ed7953"
            ],
            [
             0.7777777777777778,
             "#fb9f3a"
            ],
            [
             0.8888888888888888,
             "#fdca26"
            ],
            [
             1,
             "#f0f921"
            ]
           ]
          },
          "colorway": [
           "#636efa",
           "#EF553B",
           "#00cc96",
           "#ab63fa",
           "#FFA15A",
           "#19d3f3",
           "#FF6692",
           "#B6E880",
           "#FF97FF",
           "#FECB52"
          ],
          "font": {
           "color": "#2a3f5f"
          },
          "geo": {
           "bgcolor": "white",
           "lakecolor": "white",
           "landcolor": "#E5ECF6",
           "showlakes": true,
           "showland": true,
           "subunitcolor": "white"
          },
          "hoverlabel": {
           "align": "left"
          },
          "hovermode": "closest",
          "mapbox": {
           "style": "light"
          },
          "paper_bgcolor": "white",
          "plot_bgcolor": "#E5ECF6",
          "polar": {
           "angularaxis": {
            "gridcolor": "white",
            "linecolor": "white",
            "ticks": ""
           },
           "bgcolor": "#E5ECF6",
           "radialaxis": {
            "gridcolor": "white",
            "linecolor": "white",
            "ticks": ""
           }
          },
          "scene": {
           "xaxis": {
            "backgroundcolor": "#E5ECF6",
            "gridcolor": "white",
            "gridwidth": 2,
            "linecolor": "white",
            "showbackground": true,
            "ticks": "",
            "zerolinecolor": "white"
           },
           "yaxis": {
            "backgroundcolor": "#E5ECF6",
            "gridcolor": "white",
            "gridwidth": 2,
            "linecolor": "white",
            "showbackground": true,
            "ticks": "",
            "zerolinecolor": "white"
           },
           "zaxis": {
            "backgroundcolor": "#E5ECF6",
            "gridcolor": "white",
            "gridwidth": 2,
            "linecolor": "white",
            "showbackground": true,
            "ticks": "",
            "zerolinecolor": "white"
           }
          },
          "shapedefaults": {
           "line": {
            "color": "#2a3f5f"
           }
          },
          "ternary": {
           "aaxis": {
            "gridcolor": "white",
            "linecolor": "white",
            "ticks": ""
           },
           "baxis": {
            "gridcolor": "white",
            "linecolor": "white",
            "ticks": ""
           },
           "bgcolor": "#E5ECF6",
           "caxis": {
            "gridcolor": "white",
            "linecolor": "white",
            "ticks": ""
           }
          },
          "title": {
           "x": 0.05
          },
          "xaxis": {
           "automargin": true,
           "gridcolor": "white",
           "linecolor": "white",
           "ticks": "",
           "title": {
            "standoff": 15
           },
           "zerolinecolor": "white",
           "zerolinewidth": 2
          },
          "yaxis": {
           "automargin": true,
           "gridcolor": "white",
           "linecolor": "white",
           "ticks": "",
           "title": {
            "standoff": 15
           },
           "zerolinecolor": "white",
           "zerolinewidth": 2
          }
         }
        },
        "title": {
         "text": "candelstick Chart"
        },
        "xaxis": {
         "title": {
          "text": "date"
         }
        },
        "yaxis": {
         "title": {
          "text": "Price"
         }
        }
       }
      }
     },
     "metadata": {},
     "output_type": "display_data"
    }
   ],
   "source": [
    "fig = go.Figure(data=[go.Candlestick(x=df.index,\n",
    "                open=df['1. open'],\n",
    "                high=df['2. high'],\n",
    "                low=df['3. low'],\n",
    "                close=df['4. close'])])\n",
    "\n",
    "fig.update_layout(title ='candelstick Chart' , xaxis_title = 'date' ,\n",
    "yaxis_title = 'Price')"
   ]
  },
  {
   "cell_type": "code",
   "execution_count": null,
   "id": "c19a063e",
   "metadata": {},
   "outputs": [],
   "source": []
  },
  {
   "cell_type": "code",
   "execution_count": null,
   "id": "59b552b9",
   "metadata": {},
   "outputs": [],
   "source": []
  },
  {
   "cell_type": "code",
   "execution_count": null,
   "id": "4e50ed3a",
   "metadata": {},
   "outputs": [],
   "source": []
  },
  {
   "cell_type": "code",
   "execution_count": null,
   "id": "be8b3765",
   "metadata": {},
   "outputs": [],
   "source": []
  },
  {
   "cell_type": "code",
   "execution_count": null,
   "id": "5f3beda6",
   "metadata": {},
   "outputs": [],
   "source": []
  },
  {
   "cell_type": "code",
   "execution_count": null,
   "id": "6d8109f5",
   "metadata": {},
   "outputs": [],
   "source": []
  },
  {
   "cell_type": "code",
   "execution_count": null,
   "id": "6d052265",
   "metadata": {},
   "outputs": [],
   "source": []
  },
  {
   "cell_type": "code",
   "execution_count": null,
   "id": "527d92b6",
   "metadata": {},
   "outputs": [],
   "source": []
  },
  {
   "cell_type": "code",
   "execution_count": null,
   "id": "c90e5e0b",
   "metadata": {},
   "outputs": [],
   "source": []
  },
  {
   "cell_type": "code",
   "execution_count": null,
   "id": "255e5912",
   "metadata": {},
   "outputs": [],
   "source": []
  },
  {
   "cell_type": "code",
   "execution_count": null,
   "id": "b1a24369",
   "metadata": {},
   "outputs": [],
   "source": []
  },
  {
   "cell_type": "code",
   "execution_count": null,
   "id": "a4687049",
   "metadata": {},
   "outputs": [],
   "source": []
  },
  {
   "cell_type": "code",
   "execution_count": null,
   "id": "20195cf9",
   "metadata": {},
   "outputs": [],
   "source": []
  },
  {
   "cell_type": "code",
   "execution_count": null,
   "id": "523d53b1",
   "metadata": {},
   "outputs": [],
   "source": []
  },
  {
   "cell_type": "code",
   "execution_count": null,
   "id": "32998d1e",
   "metadata": {},
   "outputs": [],
   "source": []
  },
  {
   "cell_type": "code",
   "execution_count": null,
   "id": "dbd48b65",
   "metadata": {},
   "outputs": [],
   "source": []
  },
  {
   "cell_type": "code",
   "execution_count": null,
   "id": "7a0f9bd5",
   "metadata": {},
   "outputs": [],
   "source": []
  },
  {
   "cell_type": "code",
   "execution_count": null,
   "id": "41aa07f2",
   "metadata": {},
   "outputs": [],
   "source": []
  },
  {
   "cell_type": "code",
   "execution_count": null,
   "id": "6a0456cf",
   "metadata": {},
   "outputs": [],
   "source": []
  },
  {
   "cell_type": "code",
   "execution_count": null,
   "id": "8c60be8d",
   "metadata": {},
   "outputs": [],
   "source": []
  },
  {
   "cell_type": "code",
   "execution_count": null,
   "id": "1898173f",
   "metadata": {},
   "outputs": [],
   "source": []
  },
  {
   "cell_type": "code",
   "execution_count": null,
   "id": "9c791163",
   "metadata": {},
   "outputs": [],
   "source": []
  },
  {
   "cell_type": "code",
   "execution_count": null,
   "id": "62921592",
   "metadata": {},
   "outputs": [],
   "source": []
  }
 ],
 "metadata": {
  "kernelspec": {
   "display_name": "venv",
   "language": "python",
   "name": "python3"
  },
  "language_info": {
   "codemirror_mode": {
    "name": "ipython",
    "version": 3
   },
   "file_extension": ".py",
   "mimetype": "text/x-python",
   "name": "python",
   "nbconvert_exporter": "python",
   "pygments_lexer": "ipython3",
   "version": "3.13.7"
  }
 },
 "nbformat": 4,
 "nbformat_minor": 5
}
